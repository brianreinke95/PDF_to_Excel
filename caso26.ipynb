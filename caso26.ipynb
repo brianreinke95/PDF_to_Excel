{
 "cells": [
  {
   "cell_type": "code",
   "execution_count": 1,
   "metadata": {},
   "outputs": [],
   "source": [
    "from IPython.core.interactiveshell import InteractiveShell\n",
    "InteractiveShell.ast_node_interactivity = \"all\""
   ]
  },
  {
   "cell_type": "code",
   "execution_count": 143,
   "metadata": {},
   "outputs": [],
   "source": [
    "import tabula\n",
    "from tabula import read_pdf\n",
    "import numpy as np\n",
    "import pandas as pd\n",
    "import re as regex\n",
    "df = read_pdf('1088888.pdf', guess=False, stream=True, pages='all', multiple_tables=True,  pandas_options={'header':None})"
   ]
  },
  {
   "cell_type": "code",
   "execution_count": 144,
   "metadata": {},
   "outputs": [],
   "source": [
    "pd.set_option('display.max_colwidth', -1)  #Veo hasta la última palabra\n",
    "pd.set_option('display.max_rows', 1000)"
   ]
  },
  {
   "cell_type": "code",
   "execution_count": 145,
   "metadata": {},
   "outputs": [],
   "source": [
    "df[0] = df[0].drop(df[0].head(12).index, axis=0)\n",
    "df[0] = df[0].reset_index(drop=True)"
   ]
  },
  {
   "cell_type": "code",
   "execution_count": 146,
   "metadata": {},
   "outputs": [],
   "source": [
    "df[7].loc[6, 0] = '4/26/2017 ARS'"
   ]
  },
  {
   "cell_type": "code",
   "execution_count": 147,
   "metadata": {},
   "outputs": [],
   "source": [
    "df = [x.dropna(axis=1, how='all') for x in df]\n",
    "for df_aux in df:\n",
    "    df_aux.columns = np.arange(0, len(df_aux.columns), 1)"
   ]
  },
  {
   "cell_type": "code",
   "execution_count": 148,
   "metadata": {},
   "outputs": [],
   "source": [
    "lista_head_drop = []\n",
    "for dfs in df[1:]:\n",
    "    dfs.loc[:, 0] = dfs.loc[:, 0].apply(str)\n",
    "    filtery = [True if regex.search(r'\\d{1,2}/\\d{1,2}/\\d{2,4}', x) else False for x in dfs.loc[:, 0]]\n",
    "    # finding first True value \n",
    "    # USA GENERADORES\n",
    "    # using next() and enumerate() \n",
    "    pos = next((i for i, j in enumerate(filtery) if j), None) \n",
    "    lista_head_drop.append(pos)\n",
    "    dfs.loc[:, 0] = dfs.loc[:, 0].replace('nan', np.NaN)"
   ]
  },
  {
   "cell_type": "code",
   "execution_count": 149,
   "metadata": {},
   "outputs": [
    {
     "name": "stdout",
     "output_type": "stream",
     "text": [
      "6\n",
      "5\n",
      "6\n",
      "6\n",
      "6\n",
      "6\n",
      "6\n",
      "6\n",
      "6\n",
      "6\n",
      "6\n",
      "6\n",
      "6\n",
      "6\n"
     ]
    }
   ],
   "source": [
    "for item in lista_head_drop:\n",
    "    print(item)"
   ]
  },
  {
   "cell_type": "code",
   "execution_count": 150,
   "metadata": {},
   "outputs": [],
   "source": [
    "for i, dfs in enumerate(df[1:], start=1):\n",
    "    df[i] = df[i].drop(df[i].head(lista_head_drop[i-1]).index, axis=0)"
   ]
  },
  {
   "cell_type": "code",
   "execution_count": 151,
   "metadata": {},
   "outputs": [],
   "source": [
    "df = [x.drop(x.tail(2).index, axis=0) for x in df]"
   ]
  },
  {
   "cell_type": "code",
   "execution_count": 152,
   "metadata": {},
   "outputs": [],
   "source": [
    "df[14] = df[14].loc[6:31, :]"
   ]
  },
  {
   "cell_type": "code",
   "execution_count": 153,
   "metadata": {},
   "outputs": [],
   "source": [
    "df = [x.reset_index(drop=True) for x in df]"
   ]
  },
  {
   "cell_type": "code",
   "execution_count": 187,
   "metadata": {},
   "outputs": [],
   "source": [
    "df[13].loc[26, 1] = '0.50 162.50'"
   ]
  },
  {
   "cell_type": "code",
   "execution_count": 196,
   "metadata": {},
   "outputs": [],
   "source": [
    "df[2].loc[24, 0] = 'EJ Review email from Lisa Tudzin (NP) regarding availability of Cerritos 0.10 17.50'\n",
    "df[2].loc[25, 0] = 'Dodge for depositions 175.00/hr'"
   ]
  },
  {
   "cell_type": "code",
   "execution_count": 154,
   "metadata": {},
   "outputs": [],
   "source": [
    "def Organizador(df, rows_numbs=None, split_numbs=None):\n",
    "    for row_num, split_num in zip(rows_numbs, split_numbs):\n",
    "        aux = df.loc[row_num, 0].split(' ', maxsplit = split_num)\n",
    "        date = ''\n",
    "        if split_num == 1:\n",
    "            name = aux[0]\n",
    "            string = aux[1]\n",
    "\n",
    "        elif split_num == 2:\n",
    "            date = aux[0]\n",
    "            name = aux[1]\n",
    "            string = aux[2]\n",
    "        else:\n",
    "            raise ValueError('Split no válido')\n",
    "\n",
    "        if pd.isna(df.loc[row_num, 1]):\n",
    "            df.loc[row_num, 1] = string\n",
    "            df.loc[row_num, 0] = date + ' ' + name if date else name\n",
    "        else:\n",
    "            df.loc[row_num, 1] = string + ' ' + df.loc[row_num, 1]\n",
    "            df.loc[row_num, 0] = date + ' ' + name if date else name\n",
    "\n",
    "     "
   ]
  },
  {
   "cell_type": "code",
   "execution_count": 156,
   "metadata": {},
   "outputs": [],
   "source": [
    "Organizador(df[3], [22], [2])\n",
    "Organizador(df[4], [24], [2])\n",
    "Organizador(df[5], [8, 10], [2, 1])\n",
    "Organizador(df[6], [10, 12, 14, 16, 23], [2, 2, 1, 2, 2])        \n",
    "Organizador(df[7], [8, 10], [1, 1])   \n",
    "Organizador(df[8], [4, 32], [1, 1])\n",
    "Organizador(df[9], [6], [2])\n",
    "Organizador(df[11], [23, 25, 27], [2, 1, 1])\n",
    "Organizador(df[12], [12, 14, 16], [2, 1, 1])                             \n",
    "Organizador(df[14], [24], [2])"
   ]
  },
  {
   "cell_type": "code",
   "execution_count": 180,
   "metadata": {
    "scrolled": true
   },
   "outputs": [
    {
     "name": "stdout",
     "output_type": "stream",
     "text": [
      "0\n"
     ]
    },
    {
     "data": {
      "text/html": [
       "<div>\n",
       "<style scoped>\n",
       "    .dataframe tbody tr th:only-of-type {\n",
       "        vertical-align: middle;\n",
       "    }\n",
       "\n",
       "    .dataframe tbody tr th {\n",
       "        vertical-align: top;\n",
       "    }\n",
       "\n",
       "    .dataframe thead th {\n",
       "        text-align: right;\n",
       "    }\n",
       "</style>\n",
       "<table border=\"1\" class=\"dataframe\">\n",
       "  <thead>\n",
       "    <tr style=\"text-align: right;\">\n",
       "      <th></th>\n",
       "      <th>0</th>\n",
       "      <th>1</th>\n",
       "    </tr>\n",
       "  </thead>\n",
       "  <tbody>\n",
       "    <tr>\n",
       "      <th>0</th>\n",
       "      <td>2/27/2017 RMW Receive and review RO Summary and trial countdown; Receive and review</td>\n",
       "      <td>0.50 250.00</td>\n",
       "    </tr>\n",
       "    <tr>\n",
       "      <th>1</th>\n",
       "      <td>NOA</td>\n",
       "      <td>500.00/hr</td>\n",
       "    </tr>\n",
       "    <tr>\n",
       "      <th>2</th>\n",
       "      <td>3/1/2017 RMW Review and analyze client files</td>\n",
       "      <td>1.50 750.00</td>\n",
       "    </tr>\n",
       "  </tbody>\n",
       "</table>\n",
       "</div>"
      ],
      "text/plain": [
       "                                                                                     0  \\\n",
       "0  2/27/2017 RMW Receive and review RO Summary and trial countdown; Receive and review   \n",
       "1  NOA                                                                                   \n",
       "2  3/1/2017 RMW Review and analyze client files                                          \n",
       "\n",
       "             1  \n",
       "0  0.50 250.00  \n",
       "1  500.00/hr    \n",
       "2  1.50 750.00  "
      ]
     },
     "execution_count": 180,
     "metadata": {},
     "output_type": "execute_result"
    },
    {
     "name": "stdout",
     "output_type": "stream",
     "text": [
      "1\n"
     ]
    },
    {
     "data": {
      "text/html": [
       "<div>\n",
       "<style scoped>\n",
       "    .dataframe tbody tr th:only-of-type {\n",
       "        vertical-align: middle;\n",
       "    }\n",
       "\n",
       "    .dataframe tbody tr th {\n",
       "        vertical-align: top;\n",
       "    }\n",
       "\n",
       "    .dataframe thead th {\n",
       "        text-align: right;\n",
       "    }\n",
       "</style>\n",
       "<table border=\"1\" class=\"dataframe\">\n",
       "  <thead>\n",
       "    <tr style=\"text-align: right;\">\n",
       "      <th></th>\n",
       "      <th>0</th>\n",
       "      <th>1</th>\n",
       "      <th>2</th>\n",
       "    </tr>\n",
       "  </thead>\n",
       "  <tbody>\n",
       "    <tr>\n",
       "      <th>0</th>\n",
       "      <td>3/20/2017 ARS</td>\n",
       "      <td>Draft, review and revise motion in limine number 2</td>\n",
       "      <td>0.50 162.50</td>\n",
       "    </tr>\n",
       "    <tr>\n",
       "      <th>1</th>\n",
       "      <td>NaN</td>\n",
       "      <td>NaN</td>\n",
       "      <td>325.00/hr</td>\n",
       "    </tr>\n",
       "    <tr>\n",
       "      <th>2</th>\n",
       "      <td>ARS</td>\n",
       "      <td>Draft, review and revise motion in limine number 3</td>\n",
       "      <td>0.50 162.50</td>\n",
       "    </tr>\n",
       "  </tbody>\n",
       "</table>\n",
       "</div>"
      ],
      "text/plain": [
       "               0                                                   1  \\\n",
       "0  3/20/2017 ARS  Draft, review and revise motion in limine number 2   \n",
       "1  NaN            NaN                                                  \n",
       "2  ARS            Draft, review and revise motion in limine number 3   \n",
       "\n",
       "             2  \n",
       "0  0.50 162.50  \n",
       "1  325.00/hr    \n",
       "2  0.50 162.50  "
      ]
     },
     "execution_count": 180,
     "metadata": {},
     "output_type": "execute_result"
    },
    {
     "name": "stdout",
     "output_type": "stream",
     "text": [
      "2\n"
     ]
    },
    {
     "data": {
      "text/html": [
       "<div>\n",
       "<style scoped>\n",
       "    .dataframe tbody tr th:only-of-type {\n",
       "        vertical-align: middle;\n",
       "    }\n",
       "\n",
       "    .dataframe tbody tr th {\n",
       "        vertical-align: top;\n",
       "    }\n",
       "\n",
       "    .dataframe thead th {\n",
       "        text-align: right;\n",
       "    }\n",
       "</style>\n",
       "<table border=\"1\" class=\"dataframe\">\n",
       "  <thead>\n",
       "    <tr style=\"text-align: right;\">\n",
       "      <th></th>\n",
       "      <th>0</th>\n",
       "    </tr>\n",
       "  </thead>\n",
       "  <tbody>\n",
       "    <tr>\n",
       "      <th>0</th>\n",
       "      <td>3/22/2017 ARS Draft, review and revise email to client 0.10 32.50</td>\n",
       "    </tr>\n",
       "    <tr>\n",
       "      <th>1</th>\n",
       "      <td>325.00/hr</td>\n",
       "    </tr>\n",
       "    <tr>\n",
       "      <th>2</th>\n",
       "      <td>3/23/2017 ARS Travel to and from and attend deposition of client at Nixon Peabody in Los 9.00 2,925.00</td>\n",
       "    </tr>\n",
       "  </tbody>\n",
       "</table>\n",
       "</div>"
      ],
      "text/plain": [
       "                                                                                                        0\n",
       "0  3/22/2017 ARS Draft, review and revise email to client 0.10 32.50                                     \n",
       "1  325.00/hr                                                                                             \n",
       "2  3/23/2017 ARS Travel to and from and attend deposition of client at Nixon Peabody in Los 9.00 2,925.00"
      ]
     },
     "execution_count": 180,
     "metadata": {},
     "output_type": "execute_result"
    },
    {
     "name": "stdout",
     "output_type": "stream",
     "text": [
      "3\n"
     ]
    },
    {
     "data": {
      "text/html": [
       "<div>\n",
       "<style scoped>\n",
       "    .dataframe tbody tr th:only-of-type {\n",
       "        vertical-align: middle;\n",
       "    }\n",
       "\n",
       "    .dataframe tbody tr th {\n",
       "        vertical-align: top;\n",
       "    }\n",
       "\n",
       "    .dataframe thead th {\n",
       "        text-align: right;\n",
       "    }\n",
       "</style>\n",
       "<table border=\"1\" class=\"dataframe\">\n",
       "  <thead>\n",
       "    <tr style=\"text-align: right;\">\n",
       "      <th></th>\n",
       "      <th>0</th>\n",
       "      <th>1</th>\n",
       "      <th>2</th>\n",
       "    </tr>\n",
       "  </thead>\n",
       "  <tbody>\n",
       "    <tr>\n",
       "      <th>0</th>\n",
       "      <td>4/4/2017 ARS</td>\n",
       "      <td>Draft, review and revise draft joint special verdict form</td>\n",
       "      <td>0.80 260.00</td>\n",
       "    </tr>\n",
       "    <tr>\n",
       "      <th>1</th>\n",
       "      <td>NaN</td>\n",
       "      <td>NaN</td>\n",
       "      <td>325.00/hr</td>\n",
       "    </tr>\n",
       "    <tr>\n",
       "      <th>2</th>\n",
       "      <td>ARS</td>\n",
       "      <td>Draft, review and revise joint witness list draft</td>\n",
       "      <td>0.80 260.00</td>\n",
       "    </tr>\n",
       "  </tbody>\n",
       "</table>\n",
       "</div>"
      ],
      "text/plain": [
       "              0                                                          1  \\\n",
       "0  4/4/2017 ARS  Draft, review and revise draft joint special verdict form   \n",
       "1  NaN           NaN                                                         \n",
       "2  ARS           Draft, review and revise joint witness list draft           \n",
       "\n",
       "             2  \n",
       "0  0.80 260.00  \n",
       "1  325.00/hr    \n",
       "2  0.80 260.00  "
      ]
     },
     "execution_count": 180,
     "metadata": {},
     "output_type": "execute_result"
    },
    {
     "name": "stdout",
     "output_type": "stream",
     "text": [
      "4\n"
     ]
    },
    {
     "data": {
      "text/html": [
       "<div>\n",
       "<style scoped>\n",
       "    .dataframe tbody tr th:only-of-type {\n",
       "        vertical-align: middle;\n",
       "    }\n",
       "\n",
       "    .dataframe tbody tr th {\n",
       "        vertical-align: top;\n",
       "    }\n",
       "\n",
       "    .dataframe thead th {\n",
       "        text-align: right;\n",
       "    }\n",
       "</style>\n",
       "<table border=\"1\" class=\"dataframe\">\n",
       "  <thead>\n",
       "    <tr style=\"text-align: right;\">\n",
       "      <th></th>\n",
       "      <th>0</th>\n",
       "      <th>1</th>\n",
       "    </tr>\n",
       "  </thead>\n",
       "  <tbody>\n",
       "    <tr>\n",
       "      <th>0</th>\n",
       "      <td>4/7/2017 EJ</td>\n",
       "      <td>Telephone conference with Linda Petty (Barbara Luna's office) regarding 0.10 17.50</td>\n",
       "    </tr>\n",
       "    <tr>\n",
       "      <th>1</th>\n",
       "      <td>NaN</td>\n",
       "      <td>rescheduling deposition of Barbara Luna to 4-17-17 per Lisa Tudzin (NP)'s 175.00/hr</td>\n",
       "    </tr>\n",
       "    <tr>\n",
       "      <th>2</th>\n",
       "      <td>NaN</td>\n",
       "      <td>request</td>\n",
       "    </tr>\n",
       "  </tbody>\n",
       "</table>\n",
       "</div>"
      ],
      "text/plain": [
       "             0  \\\n",
       "0  4/7/2017 EJ   \n",
       "1  NaN           \n",
       "2  NaN           \n",
       "\n",
       "                                                                                     1  \n",
       "0  Telephone conference with Linda Petty (Barbara Luna's office) regarding 0.10 17.50   \n",
       "1  rescheduling deposition of Barbara Luna to 4-17-17 per Lisa Tudzin (NP)'s 175.00/hr  \n",
       "2  request                                                                              "
      ]
     },
     "execution_count": 180,
     "metadata": {},
     "output_type": "execute_result"
    },
    {
     "name": "stdout",
     "output_type": "stream",
     "text": [
      "5\n"
     ]
    },
    {
     "data": {
      "text/html": [
       "<div>\n",
       "<style scoped>\n",
       "    .dataframe tbody tr th:only-of-type {\n",
       "        vertical-align: middle;\n",
       "    }\n",
       "\n",
       "    .dataframe tbody tr th {\n",
       "        vertical-align: top;\n",
       "    }\n",
       "\n",
       "    .dataframe thead th {\n",
       "        text-align: right;\n",
       "    }\n",
       "</style>\n",
       "<table border=\"1\" class=\"dataframe\">\n",
       "  <thead>\n",
       "    <tr style=\"text-align: right;\">\n",
       "      <th></th>\n",
       "      <th>0</th>\n",
       "      <th>1</th>\n",
       "      <th>2</th>\n",
       "    </tr>\n",
       "  </thead>\n",
       "  <tbody>\n",
       "    <tr>\n",
       "      <th>0</th>\n",
       "      <td>4/13/2017 ARS</td>\n",
       "      <td>Draft, review and revise multiple email to client</td>\n",
       "      <td>0.20 65.00</td>\n",
       "    </tr>\n",
       "    <tr>\n",
       "      <th>1</th>\n",
       "      <td>NaN</td>\n",
       "      <td>NaN</td>\n",
       "      <td>325.00/hr</td>\n",
       "    </tr>\n",
       "    <tr>\n",
       "      <th>2</th>\n",
       "      <td>ARS</td>\n",
       "      <td>Review multiple emails from Venita McMorris at Luna's office regarding</td>\n",
       "      <td>0.3 97.50</td>\n",
       "    </tr>\n",
       "  </tbody>\n",
       "</table>\n",
       "</div>"
      ],
      "text/plain": [
       "               0  \\\n",
       "0  4/13/2017 ARS   \n",
       "1  NaN             \n",
       "2  ARS             \n",
       "\n",
       "                                                                        1  \\\n",
       "0  Draft, review and revise multiple email to client                        \n",
       "1  NaN                                                                      \n",
       "2  Review multiple emails from Venita McMorris at Luna's office regarding   \n",
       "\n",
       "            2  \n",
       "0  0.20 65.00  \n",
       "1  325.00/hr   \n",
       "2  0.3 97.50   "
      ]
     },
     "execution_count": 180,
     "metadata": {},
     "output_type": "execute_result"
    },
    {
     "name": "stdout",
     "output_type": "stream",
     "text": [
      "6\n"
     ]
    },
    {
     "data": {
      "text/html": [
       "<div>\n",
       "<style scoped>\n",
       "    .dataframe tbody tr th:only-of-type {\n",
       "        vertical-align: middle;\n",
       "    }\n",
       "\n",
       "    .dataframe tbody tr th {\n",
       "        vertical-align: top;\n",
       "    }\n",
       "\n",
       "    .dataframe thead th {\n",
       "        text-align: right;\n",
       "    }\n",
       "</style>\n",
       "<table border=\"1\" class=\"dataframe\">\n",
       "  <thead>\n",
       "    <tr style=\"text-align: right;\">\n",
       "      <th></th>\n",
       "      <th>0</th>\n",
       "      <th>1</th>\n",
       "    </tr>\n",
       "  </thead>\n",
       "  <tbody>\n",
       "    <tr>\n",
       "      <th>0</th>\n",
       "      <td>4/21/2017 EJ</td>\n",
       "      <td>Draft, prepare, and serve Plaintiffs Objections to Defendants' 2nd 0.20 35.00</td>\n",
       "    </tr>\n",
       "    <tr>\n",
       "      <th>1</th>\n",
       "      <td>NaN</td>\n",
       "      <td>Amended Notice of Deposition of Blasjo (4-25-17) 175.00/hr</td>\n",
       "    </tr>\n",
       "    <tr>\n",
       "      <th>2</th>\n",
       "      <td>EJ</td>\n",
       "      <td>Draft, prepare, and serve Amended Notice of Deposition of FCA's expert 0.20 35.00</td>\n",
       "    </tr>\n",
       "  </tbody>\n",
       "</table>\n",
       "</div>"
      ],
      "text/plain": [
       "              0  \\\n",
       "0  4/21/2017 EJ   \n",
       "1  NaN            \n",
       "2  EJ             \n",
       "\n",
       "                                                                                   1  \n",
       "0  Draft, prepare, and serve Plaintiffs Objections to Defendants' 2nd 0.20 35.00      \n",
       "1  Amended Notice of Deposition of Blasjo (4-25-17) 175.00/hr                         \n",
       "2  Draft, prepare, and serve Amended Notice of Deposition of FCA's expert 0.20 35.00  "
      ]
     },
     "execution_count": 180,
     "metadata": {},
     "output_type": "execute_result"
    },
    {
     "name": "stdout",
     "output_type": "stream",
     "text": [
      "7\n"
     ]
    },
    {
     "data": {
      "text/html": [
       "<div>\n",
       "<style scoped>\n",
       "    .dataframe tbody tr th:only-of-type {\n",
       "        vertical-align: middle;\n",
       "    }\n",
       "\n",
       "    .dataframe tbody tr th {\n",
       "        vertical-align: top;\n",
       "    }\n",
       "\n",
       "    .dataframe thead th {\n",
       "        text-align: right;\n",
       "    }\n",
       "</style>\n",
       "<table border=\"1\" class=\"dataframe\">\n",
       "  <thead>\n",
       "    <tr style=\"text-align: right;\">\n",
       "      <th></th>\n",
       "      <th>0</th>\n",
       "      <th>1</th>\n",
       "    </tr>\n",
       "  </thead>\n",
       "  <tbody>\n",
       "    <tr>\n",
       "      <th>0</th>\n",
       "      <td>4/26/2017 ARS</td>\n",
       "      <td>Review email from Venita McMorris at Luna's office regarding Luna's 0.10 32.50</td>\n",
       "    </tr>\n",
       "    <tr>\n",
       "      <th>1</th>\n",
       "      <td>NaN</td>\n",
       "      <td>deposition transcript 325.00/hr</td>\n",
       "    </tr>\n",
       "    <tr>\n",
       "      <th>2</th>\n",
       "      <td>ARS</td>\n",
       "      <td>Draft, review and revise email to Venita McMorris at Luna's office regarding 0.10 32.50</td>\n",
       "    </tr>\n",
       "  </tbody>\n",
       "</table>\n",
       "</div>"
      ],
      "text/plain": [
       "               0  \\\n",
       "0  4/26/2017 ARS   \n",
       "1  NaN             \n",
       "2  ARS             \n",
       "\n",
       "                                                                                         1  \n",
       "0  Review email from Venita McMorris at Luna's office regarding Luna's 0.10 32.50           \n",
       "1  deposition transcript 325.00/hr                                                          \n",
       "2  Draft, review and revise email to Venita McMorris at Luna's office regarding 0.10 32.50  "
      ]
     },
     "execution_count": 180,
     "metadata": {},
     "output_type": "execute_result"
    },
    {
     "name": "stdout",
     "output_type": "stream",
     "text": [
      "8\n"
     ]
    },
    {
     "data": {
      "text/html": [
       "<div>\n",
       "<style scoped>\n",
       "    .dataframe tbody tr th:only-of-type {\n",
       "        vertical-align: middle;\n",
       "    }\n",
       "\n",
       "    .dataframe tbody tr th {\n",
       "        vertical-align: top;\n",
       "    }\n",
       "\n",
       "    .dataframe thead th {\n",
       "        text-align: right;\n",
       "    }\n",
       "</style>\n",
       "<table border=\"1\" class=\"dataframe\">\n",
       "  <thead>\n",
       "    <tr style=\"text-align: right;\">\n",
       "      <th></th>\n",
       "      <th>0</th>\n",
       "      <th>1</th>\n",
       "    </tr>\n",
       "  </thead>\n",
       "  <tbody>\n",
       "    <tr>\n",
       "      <th>0</th>\n",
       "      <td>4/29/2017 LBS</td>\n",
       "      <td>Draft, review and revise exhibit list to include all of Doctor Luna's exhibits 0.50 125.00</td>\n",
       "    </tr>\n",
       "    <tr>\n",
       "      <th>1</th>\n",
       "      <td>NaN</td>\n",
       "      <td>from declaration 250.00/hr</td>\n",
       "    </tr>\n",
       "    <tr>\n",
       "      <th>2</th>\n",
       "      <td>LBS</td>\n",
       "      <td>Draft, review and revise damages spreadsheet 1.30 325.00</td>\n",
       "    </tr>\n",
       "  </tbody>\n",
       "</table>\n",
       "</div>"
      ],
      "text/plain": [
       "               0  \\\n",
       "0  4/29/2017 LBS   \n",
       "1  NaN             \n",
       "2  LBS             \n",
       "\n",
       "                                                                                            1  \n",
       "0  Draft, review and revise exhibit list to include all of Doctor Luna's exhibits 0.50 125.00  \n",
       "1  from declaration 250.00/hr                                                                  \n",
       "2  Draft, review and revise damages spreadsheet 1.30 325.00                                    "
      ]
     },
     "execution_count": 180,
     "metadata": {},
     "output_type": "execute_result"
    },
    {
     "name": "stdout",
     "output_type": "stream",
     "text": [
      "9\n"
     ]
    },
    {
     "data": {
      "text/html": [
       "<div>\n",
       "<style scoped>\n",
       "    .dataframe tbody tr th:only-of-type {\n",
       "        vertical-align: middle;\n",
       "    }\n",
       "\n",
       "    .dataframe tbody tr th {\n",
       "        vertical-align: top;\n",
       "    }\n",
       "\n",
       "    .dataframe thead th {\n",
       "        text-align: right;\n",
       "    }\n",
       "</style>\n",
       "<table border=\"1\" class=\"dataframe\">\n",
       "  <thead>\n",
       "    <tr style=\"text-align: right;\">\n",
       "      <th></th>\n",
       "      <th>0</th>\n",
       "      <th>1</th>\n",
       "      <th>2</th>\n",
       "    </tr>\n",
       "  </thead>\n",
       "  <tbody>\n",
       "    <tr>\n",
       "      <th>0</th>\n",
       "      <td>4/30/17 RMW</td>\n",
       "      <td>Prepare for trial</td>\n",
       "      <td>5.00 2,500.00</td>\n",
       "    </tr>\n",
       "    <tr>\n",
       "      <th>1</th>\n",
       "      <td>NaN</td>\n",
       "      <td>NaN</td>\n",
       "      <td>500.00/hr</td>\n",
       "    </tr>\n",
       "    <tr>\n",
       "      <th>2</th>\n",
       "      <td>ARS</td>\n",
       "      <td>Draft, review and revise email to Venita McMorris at Luna's office regarding</td>\n",
       "      <td>0.10 32.50</td>\n",
       "    </tr>\n",
       "  </tbody>\n",
       "</table>\n",
       "</div>"
      ],
      "text/plain": [
       "             0  \\\n",
       "0  4/30/17 RMW   \n",
       "1  NaN           \n",
       "2  ARS           \n",
       "\n",
       "                                                                              1  \\\n",
       "0  Prepare for trial                                                              \n",
       "1  NaN                                                                            \n",
       "2  Draft, review and revise email to Venita McMorris at Luna's office regarding   \n",
       "\n",
       "               2  \n",
       "0  5.00 2,500.00  \n",
       "1  500.00/hr      \n",
       "2  0.10 32.50     "
      ]
     },
     "execution_count": 180,
     "metadata": {},
     "output_type": "execute_result"
    },
    {
     "name": "stdout",
     "output_type": "stream",
     "text": [
      "10\n"
     ]
    },
    {
     "data": {
      "text/html": [
       "<div>\n",
       "<style scoped>\n",
       "    .dataframe tbody tr th:only-of-type {\n",
       "        vertical-align: middle;\n",
       "    }\n",
       "\n",
       "    .dataframe tbody tr th {\n",
       "        vertical-align: top;\n",
       "    }\n",
       "\n",
       "    .dataframe thead th {\n",
       "        text-align: right;\n",
       "    }\n",
       "</style>\n",
       "<table border=\"1\" class=\"dataframe\">\n",
       "  <thead>\n",
       "    <tr style=\"text-align: right;\">\n",
       "      <th></th>\n",
       "      <th>0</th>\n",
       "      <th>1</th>\n",
       "    </tr>\n",
       "  </thead>\n",
       "  <tbody>\n",
       "    <tr>\n",
       "      <th>0</th>\n",
       "      <td>5/1/17 ARS</td>\n",
       "      <td>Draft, review and revise email to opposing counsel Shepardson regarding 0.20 65.00</td>\n",
       "    </tr>\n",
       "    <tr>\n",
       "      <th>1</th>\n",
       "      <td>NaN</td>\n",
       "      <td>edited verdict form, mileage offset and payment to Jeep agreement 325.00/hr</td>\n",
       "    </tr>\n",
       "    <tr>\n",
       "      <th>2</th>\n",
       "      <td>ARS</td>\n",
       "      <td>Draft, review and revise verdict form taking out separation between each 0.20 65.00</td>\n",
       "    </tr>\n",
       "  </tbody>\n",
       "</table>\n",
       "</div>"
      ],
      "text/plain": [
       "            0  \\\n",
       "0  5/1/17 ARS   \n",
       "1  NaN          \n",
       "2  ARS          \n",
       "\n",
       "                                                                                     1  \n",
       "0  Draft, review and revise email to opposing counsel Shepardson regarding 0.20 65.00   \n",
       "1  edited verdict form, mileage offset and payment to Jeep agreement 325.00/hr          \n",
       "2  Draft, review and revise verdict form taking out separation between each 0.20 65.00  "
      ]
     },
     "execution_count": 180,
     "metadata": {},
     "output_type": "execute_result"
    },
    {
     "name": "stdout",
     "output_type": "stream",
     "text": [
      "11\n"
     ]
    },
    {
     "data": {
      "text/html": [
       "<div>\n",
       "<style scoped>\n",
       "    .dataframe tbody tr th:only-of-type {\n",
       "        vertical-align: middle;\n",
       "    }\n",
       "\n",
       "    .dataframe tbody tr th {\n",
       "        vertical-align: top;\n",
       "    }\n",
       "\n",
       "    .dataframe thead th {\n",
       "        text-align: right;\n",
       "    }\n",
       "</style>\n",
       "<table border=\"1\" class=\"dataframe\">\n",
       "  <thead>\n",
       "    <tr style=\"text-align: right;\">\n",
       "      <th></th>\n",
       "      <th>0</th>\n",
       "      <th>1</th>\n",
       "    </tr>\n",
       "  </thead>\n",
       "  <tbody>\n",
       "    <tr>\n",
       "      <th>0</th>\n",
       "      <td>5/1/17 ARS</td>\n",
       "      <td>Review email from opposing counsel Shepardson regarding special verdict 0.20 65.00</td>\n",
       "    </tr>\n",
       "    <tr>\n",
       "      <th>1</th>\n",
       "      <td>NaN</td>\n",
       "      <td>form; Review verdict form; draft email requesting clarification 325.00/hr</td>\n",
       "    </tr>\n",
       "    <tr>\n",
       "      <th>2</th>\n",
       "      <td>ARS</td>\n",
       "      <td>Review email from opposing counsel Shepardson regarding Stipulation to 0.20 65.00</td>\n",
       "    </tr>\n",
       "  </tbody>\n",
       "</table>\n",
       "</div>"
      ],
      "text/plain": [
       "            0  \\\n",
       "0  5/1/17 ARS   \n",
       "1  NaN          \n",
       "2  ARS          \n",
       "\n",
       "                                                                                    1  \n",
       "0  Review email from opposing counsel Shepardson regarding special verdict 0.20 65.00  \n",
       "1  form; Review verdict form; draft email requesting clarification 325.00/hr           \n",
       "2  Review email from opposing counsel Shepardson regarding Stipulation to 0.20 65.00   "
      ]
     },
     "execution_count": 180,
     "metadata": {},
     "output_type": "execute_result"
    },
    {
     "name": "stdout",
     "output_type": "stream",
     "text": [
      "12\n"
     ]
    },
    {
     "data": {
      "text/html": [
       "<div>\n",
       "<style scoped>\n",
       "    .dataframe tbody tr th:only-of-type {\n",
       "        vertical-align: middle;\n",
       "    }\n",
       "\n",
       "    .dataframe tbody tr th {\n",
       "        vertical-align: top;\n",
       "    }\n",
       "\n",
       "    .dataframe thead th {\n",
       "        text-align: right;\n",
       "    }\n",
       "</style>\n",
       "<table border=\"1\" class=\"dataframe\">\n",
       "  <thead>\n",
       "    <tr style=\"text-align: right;\">\n",
       "      <th></th>\n",
       "      <th>0</th>\n",
       "      <th>1</th>\n",
       "      <th>2</th>\n",
       "    </tr>\n",
       "  </thead>\n",
       "  <tbody>\n",
       "    <tr>\n",
       "      <th>0</th>\n",
       "      <td>5/2/2017 ARS</td>\n",
       "      <td>Draft, review and revise email to client</td>\n",
       "      <td>0.10 32.50</td>\n",
       "    </tr>\n",
       "    <tr>\n",
       "      <th>1</th>\n",
       "      <td>NaN</td>\n",
       "      <td>NaN</td>\n",
       "      <td>325.00/hr</td>\n",
       "    </tr>\n",
       "    <tr>\n",
       "      <th>2</th>\n",
       "      <td>ARS</td>\n",
       "      <td>Draft, review and revise email to opposing counsel Shepardson regarding</td>\n",
       "      <td>0.10 32.50</td>\n",
       "    </tr>\n",
       "  </tbody>\n",
       "</table>\n",
       "</div>"
      ],
      "text/plain": [
       "              0  \\\n",
       "0  5/2/2017 ARS   \n",
       "1  NaN            \n",
       "2  ARS            \n",
       "\n",
       "                                                                         1  \\\n",
       "0  Draft, review and revise email to client                                  \n",
       "1  NaN                                                                       \n",
       "2  Draft, review and revise email to opposing counsel Shepardson regarding   \n",
       "\n",
       "            2  \n",
       "0  0.10 32.50  \n",
       "1  325.00/hr   \n",
       "2  0.10 32.50  "
      ]
     },
     "execution_count": 180,
     "metadata": {},
     "output_type": "execute_result"
    },
    {
     "name": "stdout",
     "output_type": "stream",
     "text": [
      "13\n"
     ]
    },
    {
     "data": {
      "text/html": [
       "<div>\n",
       "<style scoped>\n",
       "    .dataframe tbody tr th:only-of-type {\n",
       "        vertical-align: middle;\n",
       "    }\n",
       "\n",
       "    .dataframe tbody tr th {\n",
       "        vertical-align: top;\n",
       "    }\n",
       "\n",
       "    .dataframe thead th {\n",
       "        text-align: right;\n",
       "    }\n",
       "</style>\n",
       "<table border=\"1\" class=\"dataframe\">\n",
       "  <thead>\n",
       "    <tr style=\"text-align: right;\">\n",
       "      <th></th>\n",
       "      <th>0</th>\n",
       "      <th>1</th>\n",
       "    </tr>\n",
       "  </thead>\n",
       "  <tbody>\n",
       "    <tr>\n",
       "      <th>0</th>\n",
       "      <td>5/4/2017 RMW Attend Trial</td>\n",
       "      <td>3.00 1,500.00</td>\n",
       "    </tr>\n",
       "    <tr>\n",
       "      <th>1</th>\n",
       "      <td>NaN</td>\n",
       "      <td>500.00/hr</td>\n",
       "    </tr>\n",
       "    <tr>\n",
       "      <th>2</th>\n",
       "      <td>RMW Prepare for trial</td>\n",
       "      <td>1.50 750.00</td>\n",
       "    </tr>\n",
       "  </tbody>\n",
       "</table>\n",
       "</div>"
      ],
      "text/plain": [
       "                           0              1\n",
       "0  5/4/2017 RMW Attend Trial  3.00 1,500.00\n",
       "1  NaN                        500.00/hr    \n",
       "2  RMW Prepare for trial      1.50 750.00  "
      ]
     },
     "execution_count": 180,
     "metadata": {},
     "output_type": "execute_result"
    },
    {
     "name": "stdout",
     "output_type": "stream",
     "text": [
      "14\n"
     ]
    },
    {
     "data": {
      "text/html": [
       "<div>\n",
       "<style scoped>\n",
       "    .dataframe tbody tr th:only-of-type {\n",
       "        vertical-align: middle;\n",
       "    }\n",
       "\n",
       "    .dataframe tbody tr th {\n",
       "        vertical-align: top;\n",
       "    }\n",
       "\n",
       "    .dataframe thead th {\n",
       "        text-align: right;\n",
       "    }\n",
       "</style>\n",
       "<table border=\"1\" class=\"dataframe\">\n",
       "  <thead>\n",
       "    <tr style=\"text-align: right;\">\n",
       "      <th></th>\n",
       "      <th>0</th>\n",
       "      <th>1</th>\n",
       "    </tr>\n",
       "  </thead>\n",
       "  <tbody>\n",
       "    <tr>\n",
       "      <th>0</th>\n",
       "      <td>8/7/2017 ARS</td>\n",
       "      <td>Draft, review and revise draft declaration for Luna to file with opposition to 0.20 65.00</td>\n",
       "    </tr>\n",
       "    <tr>\n",
       "      <th>1</th>\n",
       "      <td>NaN</td>\n",
       "      <td>motion to tax costs 325.00/hr</td>\n",
       "    </tr>\n",
       "    <tr>\n",
       "      <th>2</th>\n",
       "      <td>ARS</td>\n",
       "      <td>Draft, review and revise email to Luna regarding declaration to attach to 0.20 65.00</td>\n",
       "    </tr>\n",
       "  </tbody>\n",
       "</table>\n",
       "</div>"
      ],
      "text/plain": [
       "              0  \\\n",
       "0  8/7/2017 ARS   \n",
       "1  NaN            \n",
       "2  ARS            \n",
       "\n",
       "                                                                                           1  \n",
       "0  Draft, review and revise draft declaration for Luna to file with opposition to 0.20 65.00  \n",
       "1  motion to tax costs 325.00/hr                                                              \n",
       "2  Draft, review and revise email to Luna regarding declaration to attach to 0.20 65.00       "
      ]
     },
     "execution_count": 180,
     "metadata": {},
     "output_type": "execute_result"
    }
   ],
   "source": [
    "for i in range(len(df)):\n",
    "    print(i)\n",
    "    df[i].head(3)"
   ]
  },
  {
   "cell_type": "code",
   "execution_count": 205,
   "metadata": {},
   "outputs": [],
   "source": [
    "%run ./FUNCIONES.ipynb"
   ]
  },
  {
   "cell_type": "code",
   "execution_count": 206,
   "metadata": {},
   "outputs": [
    {
     "name": "stdout",
     "output_type": "stream",
     "text": [
      "0 0 1\n",
      "1 0 1 2\n",
      "2 0\n",
      "3 0 1 2\n",
      "4 0 1\n",
      "0     4/7/2017 \n",
      "1     4/7/2017 \n",
      "2     4/10/2017\n",
      "3     4/11/2017\n",
      "4     4/12/2017\n",
      "5     4/12/2017\n",
      "6     4/12/2017\n",
      "7     4/12/2017\n",
      "8     4/12/2017\n",
      "9     4/12/2017\n",
      "10    4/12/2017\n",
      "11    4/13/2017\n",
      "12    4/13/2017\n",
      "dtype: object 0     EJ \n",
      "1     EJ \n",
      "2     EJ \n",
      "3     EJ \n",
      "4     EJ \n",
      "5     EJ \n",
      "6     ARS\n",
      "7     ARS\n",
      "8     EJ \n",
      "9     EJ \n",
      "10    EJ \n",
      "11    RMW\n",
      "12    ARS\n",
      "dtype: object 0     Telephone conference with Linda Petty (Barbara Luna's office) regarding  rescheduling deposition of Barbara Luna to 4-17-17 per Lisa Tudzin (NP)'s  request          \n",
      "1     Send to Plaintiffs' Expert Barbara Luna documents for expert deposition  (4-13-17)                                                                                   \n",
      "2     Draft, prepare, and serve Plaintiff's Objections to Notice of Deposition of  experts (4 -13-17)                                                                      \n",
      "3     Draft, prepare, and serve Notice regarding Financial Info                                                                                                            \n",
      "4     Draft, prepare, and serve Plaintiff's Objections to Amended Notice of  Deposition of Barbara Luna (4-17-17)                                                          \n",
      "5     Prepare Final Status Conference binder                                                                                                                               \n",
      "6     Review email from client regarding additional paperwork                                                                                                              \n",
      "7     Three phone calls with client regarding status                                                                                                                       \n",
      "8     Draft email to Lisa Tudzin (NP) regarding amended Notice of Deposition of  Barbara Luna (4-17-17)                                                                    \n",
      "9     Draft email to Lisa Tudzin (NP) regarding availability of Cerritos Dodge for  deposition                                                                             \n",
      "10    Draft email to Lisa Tudzin (NP) regarding unavailability of Darrell Blasjo for  deposition on 4-19-17 and met and conferred regarding expert deposition  coordination\n",
      "11    Prepare for, travel to and from and attend final status conference                                                                                                   \n",
      "12    Review email from client; respond to same                                                                                                                            \n",
      "dtype: object 0     0.1\n",
      "1     0.3\n",
      "2     0.3\n",
      "3     0.4\n",
      "4     0.3\n",
      "5     0.4\n",
      "6     0.1\n",
      "7     0.9\n",
      "8     0.1\n",
      "9     0.1\n",
      "10    0.1\n",
      "11    8.0\n",
      "12    0.2\n",
      "dtype: float64 0     175.0\n",
      "1     175.0\n",
      "2     175.0\n",
      "3     175.0\n",
      "4     175.0\n",
      "5     175.0\n",
      "6     325.0\n",
      "7     325.0\n",
      "8     175.0\n",
      "9     175.0\n",
      "10    175.0\n",
      "11    500.0\n",
      "12    325.0\n",
      "dtype: float64 0     17.5  \n",
      "1     52.5  \n",
      "2     52.5  \n",
      "3     70.0  \n",
      "4     52.5  \n",
      "5     70.0  \n",
      "6     32.5  \n",
      "7     292.5 \n",
      "8     17.5  \n",
      "9     17.5  \n",
      "10    17.5  \n",
      "11    4000.0\n",
      "12    65.0  \n",
      "dtype: float64\n",
      "5 0 1 2\n",
      "6 0 1\n",
      "0     4/21/2017\n",
      "1     4/21/2017\n",
      "2     4/21/2017\n",
      "3     4/21/2017\n",
      "4     4/21/2017\n",
      "5     4/22/2017\n",
      "6     4/23/2017\n",
      "7     4/23/2017\n",
      "8     4/24/2017\n",
      "9     4/24/2017\n",
      "10    4/24/2017\n",
      "11    4/25/2017\n",
      "12    4/25/2017\n",
      "13    4/26/2017\n",
      "dtype: object 0     EJ \n",
      "1     EJ \n",
      "2     EJ \n",
      "3     EJ \n",
      "4     ARS\n",
      "5     RMW\n",
      "6     RMW\n",
      "7     RMW\n",
      "8     RMW\n",
      "9     ARS\n",
      "10    ARS\n",
      "11    RMW\n",
      "12    ARS\n",
      "13    RE \n",
      "dtype: object 0     Draft, prepare, and serve Plaintiffs Objections to Defendants' 2nd  Amended Notice of Deposition of Blasjo (4-25-17) \n",
      "1     Draft, prepare, and serve Amended Notice of Deposition of FCA's expert  (4-27-17)                                    \n",
      "2     Draft, prepare, and serve civil subpoenas and on-call agreements                                                     \n",
      "3     Email serve documents to be produced at Darrell Blasjo's expert deposition  (4-25-17)                                \n",
      "4     Draft, review and revise email to client regarding status, schedule                                                  \n",
      "5     Review file and prepare trial strategy                                                                               \n",
      "6     Review depositions                                                                                                   \n",
      "7     Prepare outline for trial; witness schedule; review exhibits                                                         \n",
      "8     Draft preliminary outlines for witnesses; Outline strategy for fraud  presentation                                   \n",
      "9     Review email from client                                                                                             \n",
      "10    Draft, review and revise email to client                                                                             \n",
      "11    Draft preliminary opening outlines                                                                                   \n",
      "12    Travel to and from and attend deposition of Darrell Blasjo at Nixon  Peabody in Los Angeles                          \n",
      "13    Prepare deposition binders and exhibits for Person most knowledgeable  deposition                                    \n",
      "dtype: object 0     0.2\n",
      "1     0.2\n",
      "2     0.5\n",
      "3     0.1\n",
      "4     0.1\n",
      "5     6.0\n",
      "6     4.0\n",
      "7     5.0\n",
      "8     4.5\n",
      "9     0.1\n",
      "10    0.1\n",
      "11    5.0\n",
      "12    7.0\n",
      "13    0.1\n",
      "dtype: float64 0     175.0\n",
      "1     175.0\n",
      "2     175.0\n",
      "3     175.0\n",
      "4     325.0\n",
      "5     500.0\n",
      "6     500.0\n",
      "7     500.0\n",
      "8     500.0\n",
      "9     325.0\n",
      "10    325.0\n",
      "11    500.0\n",
      "12    325.0\n",
      "13    175.0\n",
      "dtype: float64 0     35.0  \n",
      "1     35.0  \n",
      "2     87.5  \n",
      "3     17.5  \n",
      "4     32.5  \n",
      "5     3000.0\n",
      "6     2000.0\n",
      "7     2500.0\n",
      "8     2250.0\n",
      "9     32.5  \n",
      "10    32.5  \n",
      "11    2500.0\n",
      "12    2275.0\n",
      "13    17.5  \n",
      "dtype: float64\n",
      "7 0 1\n",
      "0     4/26/2017\n",
      "1     4/26/2017\n",
      "2     4/26/2017\n",
      "3     4/27/2017\n",
      "4     4/27/2017\n",
      "5     4/27/2017\n",
      "6     4/27/2017\n",
      "7     4/28/2017\n",
      "8     4/28/2017\n",
      "9     4/28/2017\n",
      "10    4/28/2017\n",
      "11    4/28/2017\n",
      "12    4/28/2017\n",
      "13    4/28/2017\n",
      "dtype: object 0     ARS\n",
      "1     ARS\n",
      "2     ARS\n",
      "3     RE \n",
      "4     RMW\n",
      "5     RMW\n",
      "6     ARS\n",
      "7     RE \n",
      "8     ARS\n",
      "9     ARS\n",
      "10    ARS\n",
      "11    ARS\n",
      "12    ARS\n",
      "13    ARS\n",
      "dtype: object 0     Review email from Venita McMorris at Luna's office regarding Luna's  deposition transcript                                                  \n",
      "1     Draft, review and revise email to Venita McMorris at Luna's office regarding  Luna's deposition transcript                                  \n",
      "2     Draft, review and revise email to client                                                                                                    \n",
      "3     Preparing and bates stamping exhibits for trial                                                                                             \n",
      "4     Receive and review FCA oppositions to Ml Ls                                                                                                 \n",
      "5     Receive and review notices of depositions for clients                                                                                       \n",
      "6     Travel to and from and attend deposition of FCA's expert Richard Schmidt  in Los Angeles                                                    \n",
      "7     Preparing exhibit binders for trial for counsel, judge, judge's assistant, and  witness.                                                    \n",
      "8     Phone call with court clerk regarding phone conference with Judge Linfield                                                                  \n",
      "9     Phone call with court clerk regarding phone conference with Judge Linfield,  court schedule,                                                \n",
      "10    Draft, review and revise email to opposing counsel regarding conference  call with Judge Linfield                                           \n",
      "11    Review email from opposing counsel Tudzin regarding schedule, phone  conference with Judge Linfield                                         \n",
      "12    Draft, review and revise email to opposing counsel Livedalen regarding  conference with Judge Linfield; reviewed response and drafted email \n",
      "13    Phone conference with Judge Linfield and opposing counsel Livedalen  regarding start of trial now Tuesday                                   \n",
      "dtype: object 0     0.1 \n",
      "1     0.1 \n",
      "2     0.1 \n",
      "3     2.7 \n",
      "4     0.4 \n",
      "5     0.1 \n",
      "6     12.0\n",
      "7     3.0 \n",
      "8     0.1 \n",
      "9     0.1 \n",
      "10    0.1 \n",
      "11    0.2 \n",
      "12    0.3 \n",
      "13    0.1 \n",
      "dtype: float64 0     325.0\n",
      "1     325.0\n",
      "2     325.0\n",
      "3     175.0\n",
      "4     500.0\n",
      "5     500.0\n",
      "6     325.0\n",
      "7     175.0\n",
      "8     325.0\n",
      "9     325.0\n",
      "10    325.0\n",
      "11    325.0\n",
      "12    325.0\n",
      "13    325.0\n",
      "dtype: float64 0     32.5  \n",
      "1     32.5  \n",
      "2     32.5  \n",
      "3     472.5 \n",
      "4     200.0 \n",
      "5     50.0  \n",
      "6     3900.0\n",
      "7     525.0 \n",
      "8     32.5  \n",
      "9     32.5  \n",
      "10    32.5  \n",
      "11    65.0  \n",
      "12    97.5  \n",
      "13    32.5  \n",
      "dtype: float64\n",
      "8 0 1\n",
      "0     4/29/2017\n",
      "1     4/29/2017\n",
      "2     4/29/2017\n",
      "3     4/29/2017\n",
      "4     4/29/2017\n",
      "5     4/29/2017\n",
      "6     4/29/2017\n",
      "7     4/29/2017\n",
      "8     4/29/2017\n",
      "9     4/29/2017\n",
      "10    4/29/2017\n",
      "11    4/29/2017\n",
      "12    4/29/2017\n",
      "13    4/30/2017\n",
      "14    4/30/2017\n",
      "15    4/30/2017\n",
      "16    4/30/2017\n",
      "dtype: object 0     LBS\n",
      "1     LBS\n",
      "2     RMW\n",
      "3     ARS\n",
      "4     ARS\n",
      "5     ARS\n",
      "6     ARS\n",
      "7     ARS\n",
      "8     ARS\n",
      "9     ARS\n",
      "10    ARS\n",
      "11    ARS\n",
      "12    ARS\n",
      "13    ARS\n",
      "14    RE \n",
      "15    ARS\n",
      "16    RMW\n",
      "dtype: object 0     Draft, review and revise exhibit list to include all of Doctor Luna's exhibits  from declaration                                   \n",
      "1     Draft, review and revise damages spreadsheet                                                                                       \n",
      "2     Review trial exhibits, motions in limine, jury instructions, draft outline of  trial, witnesses, and opening and closing statement \n",
      "3     Draft, review and revise email to Blasjo regarding transcript to review                                                            \n",
      "4     Review and revise exhibit list; drafted email to opposing counsel re same                                                          \n",
      "5     Draft, review and revise email to client regarding status, schedule                                                                \n",
      "6     Draft, review and revise email to opposing counsel regarding updated  exhibit list with Luna's exhibits                            \n",
      "7     Review email from opposing counsel Shepardson regarding damages FCA  agrees to and not                                             \n",
      "8     Compile new exhibit 3 \"loan documents,\" Bates label, and add to all exhibit  binders                                               \n",
      "9     Draft, review and revise email to opposing counsel regarding exhibits to  stipulate to for jury binders                            \n",
      "10    Draft, review and revise email to opposing counsel regarding damages  figures to agree for the special verdict form                \n",
      "11    Review and revise special verdict form                                                                                             \n",
      "12    Review client's deposition transcript to prepare to draft witness exam  outline                                                    \n",
      "13    Draft, review and revise witness outline for Angel                                                                                 \n",
      "14    Prepared exhibits binders for trial for 14 jurors.                                                                                 \n",
      "15    Prepare Exhibits                                                                                                                   \n",
      "16    Travel to Los Angeles for trial                                                                                                    \n",
      "dtype: object 0     0.5\n",
      "1     1.3\n",
      "2     6.5\n",
      "3     0.1\n",
      "4     0.1\n",
      "5     0.1\n",
      "6     0.1\n",
      "7     0.1\n",
      "8     0.2\n",
      "9     0.2\n",
      "10    0.5\n",
      "11    0.6\n",
      "12    2.0\n",
      "13    1.5\n",
      "14    6.9\n",
      "15    4.0\n",
      "16    3.5\n",
      "dtype: float64 0     250.0\n",
      "1     250.0\n",
      "2     500.0\n",
      "3     325.0\n",
      "4     325.0\n",
      "5     325.0\n",
      "6     325.0\n",
      "7     325.0\n",
      "8     325.0\n",
      "9     325.0\n",
      "10    325.0\n",
      "11    325.0\n",
      "12    325.0\n",
      "13    325.0\n",
      "14    175.0\n",
      "15    325.0\n",
      "16    500.0\n",
      "dtype: float64 0     125.0 \n",
      "1     325.0 \n",
      "2     3250.0\n",
      "3     32.5  \n",
      "4     32.5  \n",
      "5     32.5  \n",
      "6     32.5  \n",
      "7     32.5  \n",
      "8     65.0  \n",
      "9     65.0  \n",
      "10    162.5 \n",
      "11    195.0 \n",
      "12    650.0 \n",
      "13    487.5 \n",
      "14    1207.5\n",
      "15    1300.0\n",
      "16    1750.0\n",
      "dtype: float64\n",
      "9 0 1 2\n",
      "10 0 1\n",
      "0     5/1/17\n",
      "1     5/1/17\n",
      "2     5/1/17\n",
      "3     5/1/17\n",
      "4     5/1/17\n",
      "5     5/1/17\n",
      "6     5/1/17\n",
      "7     5/1/17\n",
      "8     5/1/17\n",
      "9     5/1/17\n",
      "10    5/1/17\n",
      "11    5/1/17\n",
      "12    5/1/17\n",
      "13    5/1/17\n",
      "14    5/1/17\n",
      "dtype: object 0     ARS\n",
      "1     ARS\n",
      "2     ARS\n",
      "3     ARS\n",
      "4     ARS\n",
      "5     ARS\n",
      "6     ARS\n",
      "7     ARS\n",
      "8     ARS\n",
      "9     ARS\n",
      "10    ARS\n",
      "11    ARS\n",
      "12    ARS\n",
      "13    ARS\n",
      "14    ARS\n",
      "dtype: object 0     Draft, review and revise email to opposing counsel Shepardson regarding  edited verdict form, mileage offset and payment to Jeep agreement \n",
      "1     Draft, review and revise verdict form taking out separation between each  cause of action, review for completeness and sequence            \n",
      "2     Review new version of jury instructions after Shepardson edits                                                                             \n",
      "3     Review updated exhibit list with stipulations; Add exhibit 27: dealer policy  manual                                                       \n",
      "4     Draft, review and revise exhibit list to add exhibits 147-150; Print 4 copies  and hole punch for all exhibit binders                      \n",
      "5     Print jury instructions, verdict form, and exhibit list copies to bring to first  day of trial tomorrow                                    \n",
      "6     Review all motions in limine, prepare arguments to discuss with Judge  Linfield                                                            \n",
      "7     Meet with client and Richard Wirtz at Los Angeles hotel                                                                                    \n",
      "8     Draft, review and revise client direct examination outline; Review  deposition transcript                                                  \n",
      "9     Review email from opposing counsel Livedalen regarding verdict form                                                                        \n",
      "10    Review email from opposing counsel Shepardson regarding calculation of  repurchase amount                                                  \n",
      "11    Draft, review and revise email to opposing counsel Shepardson regarding  exhibits 147-150 and updated list                                 \n",
      "12    Draft, review and revise email to opposing counsel Shepardson regarding  verdict form, separation of causes of action                      \n",
      "13    Review email from opposing counsel Shepardson regarding headers  between causes of action on verdict form                                  \n",
      "14    Draft, review and revise email to opposing counsel Livedalen regarding  new verdict form with clear and convincing language                \n",
      "dtype: object 0     0.2\n",
      "1     0.2\n",
      "2     0.2\n",
      "3     0.4\n",
      "4     0.5\n",
      "5     0.6\n",
      "6     1.1\n",
      "7     3.0\n",
      "8     3.0\n",
      "9     0.1\n",
      "10    0.1\n",
      "11    0.1\n",
      "12    0.1\n",
      "13    0.1\n",
      "14    0.1\n",
      "dtype: float64 0     325.0\n",
      "1     325.0\n",
      "2     325.0\n",
      "3     325.0\n",
      "4     325.0\n",
      "5     325.0\n",
      "6     325.0\n",
      "7     325.0\n",
      "8     325.0\n",
      "9     325.0\n",
      "10    325.0\n",
      "11    325.0\n",
      "12    325.0\n",
      "13    325.0\n",
      "14    325.0\n",
      "dtype: float64 0     65.0 \n",
      "1     65.0 \n",
      "2     65.0 \n",
      "3     130.0\n",
      "4     162.5\n",
      "5     195.0\n",
      "6     357.5\n",
      "7     975.0\n",
      "8     975.0\n",
      "9     32.5 \n",
      "10    32.5 \n",
      "11    32.5 \n",
      "12    32.5 \n",
      "13    32.5 \n",
      "14    32.5 \n",
      "dtype: float64\n",
      "11 0 1\n",
      "0     5/1/17  \n",
      "1     5/1/17  \n",
      "2     5/1/17  \n",
      "3     5/1/17  \n",
      "4     5/1/17  \n",
      "5     5/1/17  \n",
      "6     5/1/17  \n",
      "7     5/1/17  \n",
      "8     5/1/17  \n",
      "9     5/1/17  \n",
      "10    5/1/17  \n",
      "11    5/2/2017\n",
      "12    5/2/2017\n",
      "13    5/2/2017\n",
      "14    5/2/2017\n",
      "15    5/2/2017\n",
      "16    5/2/2017\n",
      "dtype: object 0     ARS\n",
      "1     ARS\n",
      "2     ARS\n",
      "3     ARS\n",
      "4     ARS\n",
      "5     ARS\n",
      "6     ARS\n",
      "7     ARS\n",
      "8     ARS\n",
      "9     ARS\n",
      "10    ARS\n",
      "11    RMW\n",
      "12    RMW\n",
      "13    RMW\n",
      "14    ARS\n",
      "15    ARS\n",
      "16    ARS\n",
      "dtype: object 0     Review email from opposing counsel Shepardson regarding special verdict  form; Review verdict form; draft email requesting clarification            \n",
      "1     Review email from opposing counsel Shepardson regarding Stipulation to  exhibit 27 and revised verdict form draft                                   \n",
      "2     Review revised verdict form from opposing counsel Shepardson                                                                                        \n",
      "3     Review email from opposing counsel Shepardson regarding mileage offset  and loan payment amount figures to add to verdict form                      \n",
      "4     Draft, review and revise verdict form to add \"clear and convincing\" language                                                                        \n",
      "5     Review email from opposing counsel Shepardson regarding edit to verdict  form with clear and convincing language; Review verdict form               \n",
      "6     Draft, review and revise email to opposing counsel Livedalen regarding  court reporter, witnesses                                                   \n",
      "7     Review email from opposing counsel Shepardson regarding FCA's special  instruction; Review special instruction                                      \n",
      "8     Review email from opposing counsel Shepardson regarding new version of  verdict form; Review verdict form                                           \n",
      "9     Review email from opposing counsel Livedalen regarding \"clear and  convincing\" language for verdict form; Review notes from Final Status  Conference\n",
      "10    Travel to Los Angeles ahead of trial call tomorrow                                                                                                  \n",
      "11    Attend Trial                                                                                                                                        \n",
      "12    Prepare for trial                                                                                                                                   \n",
      "13    Travel to and from and attend preparation session with experts                                                                                      \n",
      "14    Draft, review and revise email to opposing counsel Shepardson regarding  verdict form                                                               \n",
      "15    Draft, review and revise email to opposing counsel Shepardson regarding  verdict form drafts and exhibit list given to judge                        \n",
      "16    Draft, review and revise email to client                                                                                                            \n",
      "dtype: object 0     0.2\n",
      "1     0.2\n",
      "2     0.2\n",
      "3     0.2\n",
      "4     0.2\n",
      "5     0.2\n",
      "6     0.2\n",
      "7     0.2\n",
      "8     0.3\n",
      "9     0.3\n",
      "10    3.5\n",
      "11    8.0\n",
      "12    1.5\n",
      "13    6.0\n",
      "14    0.1\n",
      "15    0.1\n",
      "16    0.1\n",
      "dtype: float64 0     325.0\n",
      "1     325.0\n",
      "2     325.0\n",
      "3     325.0\n",
      "4     325.0\n",
      "5     325.0\n",
      "6     325.0\n",
      "7     325.0\n",
      "8     325.0\n",
      "9     325.0\n",
      "10    325.0\n",
      "11    500.0\n",
      "12    500.0\n",
      "13    500.0\n",
      "14    325.0\n",
      "15    325.0\n",
      "16    325.0\n",
      "dtype: float64 0     65.0  \n",
      "1     65.0  \n",
      "2     65.0  \n",
      "3     65.0  \n",
      "4     65.0  \n",
      "5     65.0  \n",
      "6     65.0  \n",
      "7     65.0  \n",
      "8     97.5  \n",
      "9     97.5  \n",
      "10    1137.5\n",
      "11    4000.0\n",
      "12    750.0 \n",
      "13    3000.0\n",
      "14    32.5  \n",
      "15    32.5  \n",
      "16    32.5  \n",
      "dtype: float64\n",
      "12 0 1 2\n",
      "13 0 1\n",
      "14 0 1\n",
      "0     8/7/2017 \n",
      "1     8/7/2017 \n",
      "2     8/8/2017 \n",
      "3     8/8/2017 \n",
      "4     8/9/2017 \n",
      "5     8/10/2017\n",
      "6     8/10/2017\n",
      "7     8/10/2017\n",
      "8     8/10/2017\n",
      "9     8/11/2017\n",
      "10    8/30/2017\n",
      "11    9/1/2017 \n",
      "12    9/13/2017\n",
      "dtype: object 0     ARS\n",
      "1     ARS\n",
      "2     ARS\n",
      "3     ARS\n",
      "4     ARS\n",
      "5     ARS\n",
      "6     ARS\n",
      "7     ARS\n",
      "8     ARS\n",
      "9     ARS\n",
      "10    ARS\n",
      "11    ARS\n",
      "12    RMW\n",
      "dtype: object 0     Draft, review and revise draft declaration for Luna to file with opposition to  motion to tax costs           \n",
      "1     Draft, review and revise email to Luna regarding declaration to attach to  opposition to motion to tax costs  \n",
      "2     Draft, review and revise email to Luna regarding review of declaration for  motion to tax costs opposition    \n",
      "3     Review email from Luna regarding declaration for opposition to motion to  tax costs; Review draft declaration \n",
      "4     Review email from Luna regarding declaration to opposition to motion to  tax costs                            \n",
      "5     Review and revise opposition to FCA's motion to tax costs                                                     \n",
      "6     Review and revise Mikhov's declaration in support of opposition to motion  to tax costs                       \n",
      "7     Draft, review and revise proposed order denying FCA's motion to tax costs                                     \n",
      "8     Draft, review and revise motion for attorney's fees and costs                                                 \n",
      "9     Draft, review and revise motion for attorneys fees, declarations of Mikhov  and Wirtz                         \n",
      "10    ANTICIPATED - Review FCA's opposition to Motion for Attorneys Fees                                            \n",
      "11    ANTICIPATED - Draft, review and revise reply in support of Motion for  Attorneys Fees                         \n",
      "12    ANTICIPATED - Prepare for and attend hearing for Motion for Attorneys  Fees                                   \n",
      "dtype: object 0     0.2\n",
      "1     0.2\n",
      "2     0.1\n",
      "3     0.2\n",
      "4     0.1\n",
      "5     0.6\n",
      "6     0.5\n",
      "7     0.3\n",
      "8     5.0\n",
      "9     5.0\n",
      "10    2.0\n",
      "11    5.5\n",
      "12    4.5\n",
      "dtype: float64 0     325.0\n",
      "1     325.0\n",
      "2     325.0\n",
      "3     325.0\n",
      "4     325.0\n",
      "5     325.0\n",
      "6     325.0\n",
      "7     325.0\n",
      "8     325.0\n",
      "9     325.0\n",
      "10    325.0\n",
      "11    325.0\n",
      "12    500.0\n",
      "dtype: float64 0     65.0  \n",
      "1     65.0  \n",
      "2     32.5  \n",
      "3     65.0  \n",
      "4     32.5  \n",
      "5     195.0 \n",
      "6     162.5 \n",
      "7     97.5  \n",
      "8     1625.0\n",
      "9     1625.0\n",
      "10    650.0 \n",
      "11    1787.5\n",
      "12    2250.0\n",
      "dtype: float64\n"
     ]
    }
   ],
   "source": [
    "df_aux = []\n",
    "rpr = [\n",
    "    [2,1,1,1,1,1,1,2,1,1,2],\n",
    "    [1,1,1,1,1,1,1,1,1,1,1,1,1,1,2,2,2],\n",
    "    [1,2,2,1,1,2,2,2,1,2,2,2,2,1,1,1],\n",
    "    [1,1,1,1,2,1,1,2,2,2,2,1,3,2,2],\n",
    "    [3,2,2,1,2,1,1,1,2,2,3,1,1],\n",
    "    [1,2,1,1,1,2,1,1,2,1,2,2,2,2],\n",
    "    [2,2,1,2,1,1,1,1,2,1,1,1,2,2],\n",
    "    [2,2,1,1,1,1,2,2,1,2,2,2,2,2],\n",
    "    [2,1,2,1,1,1,2,2,2,2,2,1,2,1,1,1,1],\n",
    "    [1,2,1,1,2,2,2,2,2,1,2,2,2,2,2,2,2],\n",
    "    [2,2,1,2,2,2,2,1,2,1,2,2,2,2,2],\n",
    "    [2,2,1,2,1,2,2,2,2,3,1,1,1,1,2,2,1],\n",
    "    [1,2,2,2,1,1,1,1,1,2,1,2,2,2,1,1],\n",
    "    [1,1,1,1,1,1,1,2,1,1,1,1,1,1,2,1],\n",
    "    [2,2,2,2,2,1,2,1,1,2,1,2,2]  \n",
    "]\n",
    "for i, dfs in enumerate(df):\n",
    "    if len(dfs.columns) == 1:\n",
    "        print(i, '0')\n",
    "        df_aux.append(dndhrt(dfs, rpr[i]))\n",
    "    elif len(dfs.columns) == 2:\n",
    "        print(i, '0 1')\n",
    "        if i!=0 and i!=13:\n",
    "            df_aux.append(dn_dhrt(dfs, rpr[i]))\n",
    "        else:\n",
    "            df_aux.append(dnd_hrt(dfs, rpr[i]))\n",
    "    elif len(dfs.columns) == 3:\n",
    "        print(i, '0 1 2')\n",
    "        df_aux.append(dn_d_hrt(dfs, rpr[i]))\n",
    "    else:\n",
    "        raise ValueError()"
   ]
  },
  {
   "cell_type": "code",
   "execution_count": 207,
   "metadata": {
    "collapsed": true
   },
   "outputs": [
    {
     "name": "stdout",
     "output_type": "stream",
     "text": [
      "0\n"
     ]
    },
    {
     "data": {
      "text/plain": [
       "(11, 6)"
      ]
     },
     "execution_count": 207,
     "metadata": {},
     "output_type": "execute_result"
    },
    {
     "name": "stdout",
     "output_type": "stream",
     "text": [
      "1\n"
     ]
    },
    {
     "data": {
      "text/plain": [
       "(17, 6)"
      ]
     },
     "execution_count": 207,
     "metadata": {},
     "output_type": "execute_result"
    },
    {
     "name": "stdout",
     "output_type": "stream",
     "text": [
      "2\n"
     ]
    },
    {
     "data": {
      "text/plain": [
       "(16, 6)"
      ]
     },
     "execution_count": 207,
     "metadata": {},
     "output_type": "execute_result"
    },
    {
     "name": "stdout",
     "output_type": "stream",
     "text": [
      "3\n"
     ]
    },
    {
     "data": {
      "text/plain": [
       "(15, 6)"
      ]
     },
     "execution_count": 207,
     "metadata": {},
     "output_type": "execute_result"
    },
    {
     "name": "stdout",
     "output_type": "stream",
     "text": [
      "4\n"
     ]
    },
    {
     "data": {
      "text/plain": [
       "(13, 6)"
      ]
     },
     "execution_count": 207,
     "metadata": {},
     "output_type": "execute_result"
    },
    {
     "name": "stdout",
     "output_type": "stream",
     "text": [
      "5\n"
     ]
    },
    {
     "data": {
      "text/plain": [
       "(14, 6)"
      ]
     },
     "execution_count": 207,
     "metadata": {},
     "output_type": "execute_result"
    },
    {
     "name": "stdout",
     "output_type": "stream",
     "text": [
      "6\n"
     ]
    },
    {
     "data": {
      "text/plain": [
       "(14, 6)"
      ]
     },
     "execution_count": 207,
     "metadata": {},
     "output_type": "execute_result"
    },
    {
     "name": "stdout",
     "output_type": "stream",
     "text": [
      "7\n"
     ]
    },
    {
     "data": {
      "text/plain": [
       "(14, 6)"
      ]
     },
     "execution_count": 207,
     "metadata": {},
     "output_type": "execute_result"
    },
    {
     "name": "stdout",
     "output_type": "stream",
     "text": [
      "8\n"
     ]
    },
    {
     "data": {
      "text/plain": [
       "(17, 6)"
      ]
     },
     "execution_count": 207,
     "metadata": {},
     "output_type": "execute_result"
    },
    {
     "name": "stdout",
     "output_type": "stream",
     "text": [
      "9\n"
     ]
    },
    {
     "data": {
      "text/plain": [
       "(17, 6)"
      ]
     },
     "execution_count": 207,
     "metadata": {},
     "output_type": "execute_result"
    },
    {
     "name": "stdout",
     "output_type": "stream",
     "text": [
      "10\n"
     ]
    },
    {
     "data": {
      "text/plain": [
       "(15, 6)"
      ]
     },
     "execution_count": 207,
     "metadata": {},
     "output_type": "execute_result"
    },
    {
     "name": "stdout",
     "output_type": "stream",
     "text": [
      "11\n"
     ]
    },
    {
     "data": {
      "text/plain": [
       "(17, 6)"
      ]
     },
     "execution_count": 207,
     "metadata": {},
     "output_type": "execute_result"
    },
    {
     "name": "stdout",
     "output_type": "stream",
     "text": [
      "12\n"
     ]
    },
    {
     "data": {
      "text/plain": [
       "(16, 6)"
      ]
     },
     "execution_count": 207,
     "metadata": {},
     "output_type": "execute_result"
    },
    {
     "name": "stdout",
     "output_type": "stream",
     "text": [
      "13\n"
     ]
    },
    {
     "data": {
      "text/plain": [
       "(16, 6)"
      ]
     },
     "execution_count": 207,
     "metadata": {},
     "output_type": "execute_result"
    },
    {
     "name": "stdout",
     "output_type": "stream",
     "text": [
      "14\n"
     ]
    },
    {
     "data": {
      "text/plain": [
       "(13, 6)"
      ]
     },
     "execution_count": 207,
     "metadata": {},
     "output_type": "execute_result"
    }
   ],
   "source": [
    "for i, dfs in enumerate(df_aux):\n",
    "    print(i)\n",
    "    dfs.shape"
   ]
  },
  {
   "cell_type": "code",
   "execution_count": 208,
   "metadata": {},
   "outputs": [],
   "source": [
    "DF = pd.concat(df_aux)"
   ]
  },
  {
   "cell_type": "code",
   "execution_count": 209,
   "metadata": {},
   "outputs": [
    {
     "data": {
      "text/plain": [
       "(225, 6)"
      ]
     },
     "execution_count": 209,
     "metadata": {},
     "output_type": "execute_result"
    }
   ],
   "source": [
    "DF.shape"
   ]
  },
  {
   "cell_type": "code",
   "execution_count": 210,
   "metadata": {},
   "outputs": [],
   "source": [
    "DF.to_excel(r\"C:\\Users\\brian\\Desktop\\trabajillo\\\\1088888.xlsx\", index=False)"
   ]
  },
  {
   "cell_type": "code",
   "execution_count": null,
   "metadata": {},
   "outputs": [],
   "source": []
  }
 ],
 "metadata": {
  "kernelspec": {
   "display_name": "Python 3",
   "language": "python",
   "name": "python3"
  },
  "language_info": {
   "codemirror_mode": {
    "name": "ipython",
    "version": 3
   },
   "file_extension": ".py",
   "mimetype": "text/x-python",
   "name": "python",
   "nbconvert_exporter": "python",
   "pygments_lexer": "ipython3",
   "version": "3.7.1"
  },
  "toc": {
   "base_numbering": 1,
   "nav_menu": {},
   "number_sections": false,
   "sideBar": true,
   "skip_h1_title": false,
   "title_cell": "Table of Contents",
   "title_sidebar": "Contents",
   "toc_cell": false,
   "toc_position": {},
   "toc_section_display": true,
   "toc_window_display": false
  }
 },
 "nbformat": 4,
 "nbformat_minor": 2
}
