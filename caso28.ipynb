{
 "cells": [
  {
   "cell_type": "code",
   "execution_count": 1,
   "metadata": {},
   "outputs": [],
   "source": [
    "from IPython.core.interactiveshell import InteractiveShell\n",
    "InteractiveShell.ast_node_interactivity = \"all\""
   ]
  },
  {
   "cell_type": "code",
   "execution_count": 140,
   "metadata": {},
   "outputs": [],
   "source": [
    "import tabula\n",
    "from tabula import read_pdf\n",
    "import numpy as np\n",
    "import pandas as pd\n",
    "import re as regex\n",
    "df = read_pdf('1088890.pdf', guess=False, stream=True, pages='all', multiple_tables=True,  pandas_options={'header':None})"
   ]
  },
  {
   "cell_type": "code",
   "execution_count": 141,
   "metadata": {},
   "outputs": [],
   "source": [
    "pd.set_option('display.max_colwidth', -1)  #Veo hasta la última palabra\n",
    "pd.set_option('display.max_rows', 1000)"
   ]
  },
  {
   "cell_type": "code",
   "execution_count": 142,
   "metadata": {},
   "outputs": [],
   "source": [
    "df[0] = df[0].drop(df[0].head(10).index, axis=0)\n",
    "df[0] = df[0].reset_index(drop=True)"
   ]
  },
  {
   "cell_type": "code",
   "execution_count": 143,
   "metadata": {},
   "outputs": [],
   "source": [
    "lista_head_drop = []\n",
    "for dfs in df[1:]:\n",
    "    dfs.loc[:, 0] = dfs.loc[:, 0].apply(str)\n",
    "    filtery = [True if regex.search(r'\\d{1,2}/\\d{1,2}/\\d{2,4}', x) else False for x in dfs.loc[:, 0]]\n",
    "    # finding first True value \n",
    "    # USA GENERADORES\n",
    "    # using next() and enumerate() \n",
    "    pos = next((i for i, j in enumerate(filtery) if j), None) \n",
    "    lista_head_drop.append(pos)\n",
    "    dfs.loc[:, 0] = dfs.loc[:, 0].replace('nan', np.NaN)"
   ]
  },
  {
   "cell_type": "code",
   "execution_count": 144,
   "metadata": {},
   "outputs": [
    {
     "name": "stdout",
     "output_type": "stream",
     "text": [
      "4\n",
      "4\n",
      "4\n",
      "3\n",
      "4\n",
      "4\n",
      "4\n",
      "4\n",
      "4\n",
      "4\n",
      "4\n",
      "4\n",
      "3\n"
     ]
    }
   ],
   "source": [
    "for item in lista_head_drop:\n",
    "    print(item)"
   ]
  },
  {
   "cell_type": "code",
   "execution_count": 145,
   "metadata": {},
   "outputs": [],
   "source": [
    "for i, dfs in enumerate(df[1:], start=1):\n",
    "    df[i] = df[i].drop(df[i].head(lista_head_drop[i-1]).index, axis=0)"
   ]
  },
  {
   "cell_type": "code",
   "execution_count": 146,
   "metadata": {},
   "outputs": [],
   "source": [
    "df = [x.drop(x.tail(2).index, axis=0) for x in df]"
   ]
  },
  {
   "cell_type": "code",
   "execution_count": 147,
   "metadata": {},
   "outputs": [],
   "source": [
    "df = [x.reset_index(drop=True) for x in df]"
   ]
  },
  {
   "cell_type": "code",
   "execution_count": 151,
   "metadata": {
    "collapsed": true
   },
   "outputs": [
    {
     "name": "stderr",
     "output_type": "stream",
     "text": [
      "C:\\Users\\brian\\Anaconda3\\lib\\site-packages\\pandas\\core\\indexing.py:543: SettingWithCopyWarning: \n",
      "A value is trying to be set on a copy of a slice from a DataFrame.\n",
      "Try using .loc[row_indexer,col_indexer] = value instead\n",
      "\n",
      "See the caveats in the documentation: http://pandas.pydata.org/pandas-docs/stable/indexing.html#indexing-view-versus-copy\n",
      "  self.obj[item] = s\n"
     ]
    }
   ],
   "source": [
    "df[13].loc[24, 2] = '325.00/hr'\n",
    "df[13].loc[25, 2] = np.NaN"
   ]
  },
  {
   "cell_type": "code",
   "execution_count": 152,
   "metadata": {},
   "outputs": [],
   "source": [
    "df = [x.dropna(axis=1, how='all') for x in df]\n",
    "for df_aux in df:\n",
    "    df_aux.columns = np.arange(0, len(df_aux.columns), 1)"
   ]
  },
  {
   "cell_type": "code",
   "execution_count": 153,
   "metadata": {},
   "outputs": [],
   "source": [
    "df[2].loc[15, 1] = ' 1.60 400.00' "
   ]
  },
  {
   "cell_type": "code",
   "execution_count": 154,
   "metadata": {},
   "outputs": [],
   "source": [
    "df[3].loc[16, 1] = '0.50 125.00'"
   ]
  },
  {
   "cell_type": "code",
   "execution_count": 155,
   "metadata": {},
   "outputs": [],
   "source": [
    "df[4].loc[25, 2] = '175.00/hr'"
   ]
  },
  {
   "cell_type": "code",
   "execution_count": 156,
   "metadata": {},
   "outputs": [],
   "source": [
    "df[4].loc[14, 2] = '500.00/hr'\n",
    "df[4].loc[15, 2] = np.NaN\n",
    "df[4].loc[16, 2] = '0.20 35.00'"
   ]
  },
  {
   "cell_type": "code",
   "execution_count": 157,
   "metadata": {},
   "outputs": [],
   "source": [
    "df[5].loc[14, 0] = 'ARS Multiple emails with opposing counsel Spataro regarding trial schedule 0.40 NO CHARGE'\n",
    "df[5].loc[24, 0] = 'RE Draft. Review and revise Plaintiffs Exhibit List and Exhibits 0.50 NO CHARGE'\n",
    "df[5].loc[28, 0] = 'ARS Review email from opposing counsel Shepardson regarding continuing 0.10 NO CHARGE'"
   ]
  },
  {
   "cell_type": "code",
   "execution_count": 158,
   "metadata": {},
   "outputs": [],
   "source": [
    "df[7].loc[15, 1] = '0.20 35.00'\n",
    "df[7].loc[25, 1] = '0.10 32.50'"
   ]
  },
  {
   "cell_type": "code",
   "execution_count": 159,
   "metadata": {},
   "outputs": [],
   "source": [
    "df[8].loc[17, 0] = 'RE Prepare, file, and serve Notice of Change of Address; Draft review and'\n",
    "df[8].loc[17, 1] = np.NaN\n",
    "df[8].loc[17, 2] = '0.20 NO CHARGE'\n",
    "df[8].loc[25, 2] = '500.00/hr'"
   ]
  },
  {
   "cell_type": "code",
   "execution_count": 160,
   "metadata": {},
   "outputs": [],
   "source": [
    "df[9].loc[16, 0] = np.NaN\n",
    "df[11].loc[14, 1] = '175.00/hr'"
   ]
  },
  {
   "cell_type": "code",
   "execution_count": 161,
   "metadata": {},
   "outputs": [],
   "source": [
    "df[0].loc[13, 0] = \"(6-22-17)\"\n",
    "df[0].loc[13, 1] = '175.00/hr'"
   ]
  },
  {
   "cell_type": "code",
   "execution_count": 162,
   "metadata": {},
   "outputs": [],
   "source": [
    "df[0].loc[10, 1] = '0.10 NO CHARGE'"
   ]
  },
  {
   "cell_type": "code",
   "execution_count": 163,
   "metadata": {},
   "outputs": [],
   "source": [
    "df[2].loc[24, 1] = '0.50 125.00'"
   ]
  },
  {
   "cell_type": "code",
   "execution_count": 164,
   "metadata": {},
   "outputs": [],
   "source": [
    "df[7].loc[12, 1] = '0.10 NO CHARGE'"
   ]
  },
  {
   "cell_type": "code",
   "execution_count": 165,
   "metadata": {},
   "outputs": [],
   "source": [
    "df[12].loc[16, 1] = '325.00/hr'"
   ]
  },
  {
   "cell_type": "code",
   "execution_count": 166,
   "metadata": {},
   "outputs": [],
   "source": [
    "aux = df[4][1].str.findall('[A-Z]{2,3}')\n",
    "filtery = []\n",
    "names = []\n",
    "for item in aux:\n",
    "    if not isinstance(item, float):\n",
    "        if item:\n",
    "            if item[0] != 'FCA':\n",
    "                filtery.append(True)\n",
    "                names.append(item.pop(0))\n",
    "            else:\n",
    "                filtery.append(False)\n",
    "        else:\n",
    "            filtery.append(False)\n",
    "    else:\n",
    "        filtery.append(False)\n",
    "strings = []\n",
    "df[4].loc[filtery, 0] = names\n",
    "for name, serie in zip(names, df[4].loc[filtery, 1]):\n",
    "    serie = serie.replace(name, '')\n",
    "    strings.append(serie.strip())\n",
    "df[4].loc[filtery, 1] = strings"
   ]
  },
  {
   "cell_type": "code",
   "execution_count": 167,
   "metadata": {},
   "outputs": [],
   "source": [
    "df[9].loc[17, 0] = 'RE Prepare, bates stamp, and print exhibits for trial'"
   ]
  },
  {
   "cell_type": "code",
   "execution_count": 168,
   "metadata": {},
   "outputs": [],
   "source": [
    "df = [x.dropna(axis=1, how='all') for x in df]\n",
    "for df_aux in df:\n",
    "    df_aux.columns = np.arange(0, len(df_aux.columns), 1)"
   ]
  },
  {
   "cell_type": "code",
   "execution_count": 169,
   "metadata": {
    "scrolled": true
   },
   "outputs": [
    {
     "name": "stdout",
     "output_type": "stream",
     "text": [
      "0\n"
     ]
    },
    {
     "data": {
      "text/html": [
       "<div>\n",
       "<style scoped>\n",
       "    .dataframe tbody tr th:only-of-type {\n",
       "        vertical-align: middle;\n",
       "    }\n",
       "\n",
       "    .dataframe tbody tr th {\n",
       "        vertical-align: top;\n",
       "    }\n",
       "\n",
       "    .dataframe thead th {\n",
       "        text-align: right;\n",
       "    }\n",
       "</style>\n",
       "<table border=\"1\" class=\"dataframe\">\n",
       "  <thead>\n",
       "    <tr style=\"text-align: right;\">\n",
       "      <th></th>\n",
       "      <th>0</th>\n",
       "      <th>1</th>\n",
       "    </tr>\n",
       "  </thead>\n",
       "  <tbody>\n",
       "    <tr>\n",
       "      <th>0</th>\n",
       "      <td>5/3/2017 RMW Receive and review RO Summary</td>\n",
       "      <td>0.50 250.00</td>\n",
       "    </tr>\n",
       "  </tbody>\n",
       "</table>\n",
       "</div>"
      ],
      "text/plain": [
       "                                            0            1\n",
       "0  5/3/2017 RMW Receive and review RO Summary  0.50 250.00"
      ]
     },
     "execution_count": 169,
     "metadata": {},
     "output_type": "execute_result"
    },
    {
     "name": "stdout",
     "output_type": "stream",
     "text": [
      "1\n"
     ]
    },
    {
     "data": {
      "text/html": [
       "<div>\n",
       "<style scoped>\n",
       "    .dataframe tbody tr th:only-of-type {\n",
       "        vertical-align: middle;\n",
       "    }\n",
       "\n",
       "    .dataframe tbody tr th {\n",
       "        vertical-align: top;\n",
       "    }\n",
       "\n",
       "    .dataframe thead th {\n",
       "        text-align: right;\n",
       "    }\n",
       "</style>\n",
       "<table border=\"1\" class=\"dataframe\">\n",
       "  <thead>\n",
       "    <tr style=\"text-align: right;\">\n",
       "      <th></th>\n",
       "      <th>0</th>\n",
       "      <th>1</th>\n",
       "    </tr>\n",
       "  </thead>\n",
       "  <tbody>\n",
       "    <tr>\n",
       "      <th>0</th>\n",
       "      <td>6/27/2017 RE Proof read and finalize Mandatory Settlement Conference Statement</td>\n",
       "      <td>0.30 NO CHARGE</td>\n",
       "    </tr>\n",
       "  </tbody>\n",
       "</table>\n",
       "</div>"
      ],
      "text/plain": [
       "                                                                                0  \\\n",
       "0  6/27/2017 RE Proof read and finalize Mandatory Settlement Conference Statement   \n",
       "\n",
       "                1  \n",
       "0  0.30 NO CHARGE  "
      ]
     },
     "execution_count": 169,
     "metadata": {},
     "output_type": "execute_result"
    },
    {
     "name": "stdout",
     "output_type": "stream",
     "text": [
      "2\n"
     ]
    },
    {
     "data": {
      "text/html": [
       "<div>\n",
       "<style scoped>\n",
       "    .dataframe tbody tr th:only-of-type {\n",
       "        vertical-align: middle;\n",
       "    }\n",
       "\n",
       "    .dataframe tbody tr th {\n",
       "        vertical-align: top;\n",
       "    }\n",
       "\n",
       "    .dataframe thead th {\n",
       "        text-align: right;\n",
       "    }\n",
       "</style>\n",
       "<table border=\"1\" class=\"dataframe\">\n",
       "  <thead>\n",
       "    <tr style=\"text-align: right;\">\n",
       "      <th></th>\n",
       "      <th>0</th>\n",
       "      <th>1</th>\n",
       "    </tr>\n",
       "  </thead>\n",
       "  <tbody>\n",
       "    <tr>\n",
       "      <th>0</th>\n",
       "      <td>7/12/2017 RMW Draft, review and revise joint witness list; Draft, review and revise joint</td>\n",
       "      <td>0.80 400.00</td>\n",
       "    </tr>\n",
       "  </tbody>\n",
       "</table>\n",
       "</div>"
      ],
      "text/plain": [
       "                                                                                           0  \\\n",
       "0  7/12/2017 RMW Draft, review and revise joint witness list; Draft, review and revise joint   \n",
       "\n",
       "             1  \n",
       "0  0.80 400.00  "
      ]
     },
     "execution_count": 169,
     "metadata": {},
     "output_type": "execute_result"
    },
    {
     "name": "stdout",
     "output_type": "stream",
     "text": [
      "3\n"
     ]
    },
    {
     "data": {
      "text/html": [
       "<div>\n",
       "<style scoped>\n",
       "    .dataframe tbody tr th:only-of-type {\n",
       "        vertical-align: middle;\n",
       "    }\n",
       "\n",
       "    .dataframe tbody tr th {\n",
       "        vertical-align: top;\n",
       "    }\n",
       "\n",
       "    .dataframe thead th {\n",
       "        text-align: right;\n",
       "    }\n",
       "</style>\n",
       "<table border=\"1\" class=\"dataframe\">\n",
       "  <thead>\n",
       "    <tr style=\"text-align: right;\">\n",
       "      <th></th>\n",
       "      <th>0</th>\n",
       "      <th>1</th>\n",
       "    </tr>\n",
       "  </thead>\n",
       "  <tbody>\n",
       "    <tr>\n",
       "      <th>0</th>\n",
       "      <td>7/16/2017 JRU Draft, review and revise Plaintiffs Motion in Limine No. 5</td>\n",
       "      <td>0.50 125.00</td>\n",
       "    </tr>\n",
       "  </tbody>\n",
       "</table>\n",
       "</div>"
      ],
      "text/plain": [
       "                                                                          0  \\\n",
       "0  7/16/2017 JRU Draft, review and revise Plaintiffs Motion in Limine No. 5   \n",
       "\n",
       "             1  \n",
       "0  0.50 125.00  "
      ]
     },
     "execution_count": 169,
     "metadata": {},
     "output_type": "execute_result"
    },
    {
     "name": "stdout",
     "output_type": "stream",
     "text": [
      "4\n"
     ]
    },
    {
     "data": {
      "text/html": [
       "<div>\n",
       "<style scoped>\n",
       "    .dataframe tbody tr th:only-of-type {\n",
       "        vertical-align: middle;\n",
       "    }\n",
       "\n",
       "    .dataframe tbody tr th {\n",
       "        vertical-align: top;\n",
       "    }\n",
       "\n",
       "    .dataframe thead th {\n",
       "        text-align: right;\n",
       "    }\n",
       "</style>\n",
       "<table border=\"1\" class=\"dataframe\">\n",
       "  <thead>\n",
       "    <tr style=\"text-align: right;\">\n",
       "      <th></th>\n",
       "      <th>0</th>\n",
       "      <th>1</th>\n",
       "      <th>2</th>\n",
       "    </tr>\n",
       "  </thead>\n",
       "  <tbody>\n",
       "    <tr>\n",
       "      <th>0</th>\n",
       "      <td>7/20/2017 JRU</td>\n",
       "      <td>Draft, review and revise email to opposing counsel regarding Plaintiffs'</td>\n",
       "      <td>0.10 25.00</td>\n",
       "    </tr>\n",
       "  </tbody>\n",
       "</table>\n",
       "</div>"
      ],
      "text/plain": [
       "               0  \\\n",
       "0  7/20/2017 JRU   \n",
       "\n",
       "                                                                          1  \\\n",
       "0  Draft, review and revise email to opposing counsel regarding Plaintiffs'   \n",
       "\n",
       "            2  \n",
       "0  0.10 25.00  "
      ]
     },
     "execution_count": 169,
     "metadata": {},
     "output_type": "execute_result"
    },
    {
     "name": "stdout",
     "output_type": "stream",
     "text": [
      "5\n"
     ]
    },
    {
     "data": {
      "text/html": [
       "<div>\n",
       "<style scoped>\n",
       "    .dataframe tbody tr th:only-of-type {\n",
       "        vertical-align: middle;\n",
       "    }\n",
       "\n",
       "    .dataframe tbody tr th {\n",
       "        vertical-align: top;\n",
       "    }\n",
       "\n",
       "    .dataframe thead th {\n",
       "        text-align: right;\n",
       "    }\n",
       "</style>\n",
       "<table border=\"1\" class=\"dataframe\">\n",
       "  <thead>\n",
       "    <tr style=\"text-align: right;\">\n",
       "      <th></th>\n",
       "      <th>0</th>\n",
       "    </tr>\n",
       "  </thead>\n",
       "  <tbody>\n",
       "    <tr>\n",
       "      <th>0</th>\n",
       "      <td>7/26/2017 ARS Draft, review and revise opposition to FCA's motion in limine number 5 0.50 162.50</td>\n",
       "    </tr>\n",
       "  </tbody>\n",
       "</table>\n",
       "</div>"
      ],
      "text/plain": [
       "                                                                                                  0\n",
       "0  7/26/2017 ARS Draft, review and revise opposition to FCA's motion in limine number 5 0.50 162.50"
      ]
     },
     "execution_count": 169,
     "metadata": {},
     "output_type": "execute_result"
    },
    {
     "name": "stdout",
     "output_type": "stream",
     "text": [
      "6\n"
     ]
    },
    {
     "data": {
      "text/html": [
       "<div>\n",
       "<style scoped>\n",
       "    .dataframe tbody tr th:only-of-type {\n",
       "        vertical-align: middle;\n",
       "    }\n",
       "\n",
       "    .dataframe tbody tr th {\n",
       "        vertical-align: top;\n",
       "    }\n",
       "\n",
       "    .dataframe thead th {\n",
       "        text-align: right;\n",
       "    }\n",
       "</style>\n",
       "<table border=\"1\" class=\"dataframe\">\n",
       "  <thead>\n",
       "    <tr style=\"text-align: right;\">\n",
       "      <th></th>\n",
       "      <th>0</th>\n",
       "      <th>1</th>\n",
       "    </tr>\n",
       "  </thead>\n",
       "  <tbody>\n",
       "    <tr>\n",
       "      <th>0</th>\n",
       "      <td>7/28/2017 ARS Phone call to court clerk regarding trial schedule</td>\n",
       "      <td>0.20 NO CHARGE</td>\n",
       "    </tr>\n",
       "  </tbody>\n",
       "</table>\n",
       "</div>"
      ],
      "text/plain": [
       "                                                                  0  \\\n",
       "0  7/28/2017 ARS Phone call to court clerk regarding trial schedule   \n",
       "\n",
       "                1  \n",
       "0  0.20 NO CHARGE  "
      ]
     },
     "execution_count": 169,
     "metadata": {},
     "output_type": "execute_result"
    },
    {
     "name": "stdout",
     "output_type": "stream",
     "text": [
      "7\n"
     ]
    },
    {
     "data": {
      "text/html": [
       "<div>\n",
       "<style scoped>\n",
       "    .dataframe tbody tr th:only-of-type {\n",
       "        vertical-align: middle;\n",
       "    }\n",
       "\n",
       "    .dataframe tbody tr th {\n",
       "        vertical-align: top;\n",
       "    }\n",
       "\n",
       "    .dataframe thead th {\n",
       "        text-align: right;\n",
       "    }\n",
       "</style>\n",
       "<table border=\"1\" class=\"dataframe\">\n",
       "  <thead>\n",
       "    <tr style=\"text-align: right;\">\n",
       "      <th></th>\n",
       "      <th>0</th>\n",
       "      <th>1</th>\n",
       "    </tr>\n",
       "  </thead>\n",
       "  <tbody>\n",
       "    <tr>\n",
       "      <th>0</th>\n",
       "      <td>8/2/2017 ARS Draft, review and revise email to clients</td>\n",
       "      <td>0.10 32.50</td>\n",
       "    </tr>\n",
       "  </tbody>\n",
       "</table>\n",
       "</div>"
      ],
      "text/plain": [
       "                                                        0           1\n",
       "0  8/2/2017 ARS Draft, review and revise email to clients  0.10 32.50"
      ]
     },
     "execution_count": 169,
     "metadata": {},
     "output_type": "execute_result"
    },
    {
     "name": "stdout",
     "output_type": "stream",
     "text": [
      "8\n"
     ]
    },
    {
     "data": {
      "text/html": [
       "<div>\n",
       "<style scoped>\n",
       "    .dataframe tbody tr th:only-of-type {\n",
       "        vertical-align: middle;\n",
       "    }\n",
       "\n",
       "    .dataframe tbody tr th {\n",
       "        vertical-align: top;\n",
       "    }\n",
       "\n",
       "    .dataframe thead th {\n",
       "        text-align: right;\n",
       "    }\n",
       "</style>\n",
       "<table border=\"1\" class=\"dataframe\">\n",
       "  <thead>\n",
       "    <tr style=\"text-align: right;\">\n",
       "      <th></th>\n",
       "      <th>0</th>\n",
       "      <th>1</th>\n",
       "    </tr>\n",
       "  </thead>\n",
       "  <tbody>\n",
       "    <tr>\n",
       "      <th>0</th>\n",
       "      <td>9/5/2017 ARS Draft, review and revise email to client</td>\n",
       "      <td>0.10 32.50</td>\n",
       "    </tr>\n",
       "  </tbody>\n",
       "</table>\n",
       "</div>"
      ],
      "text/plain": [
       "                                                       0           1\n",
       "0  9/5/2017 ARS Draft, review and revise email to client  0.10 32.50"
      ]
     },
     "execution_count": 169,
     "metadata": {},
     "output_type": "execute_result"
    },
    {
     "name": "stdout",
     "output_type": "stream",
     "text": [
      "9\n"
     ]
    },
    {
     "data": {
      "text/html": [
       "<div>\n",
       "<style scoped>\n",
       "    .dataframe tbody tr th:only-of-type {\n",
       "        vertical-align: middle;\n",
       "    }\n",
       "\n",
       "    .dataframe tbody tr th {\n",
       "        vertical-align: top;\n",
       "    }\n",
       "\n",
       "    .dataframe thead th {\n",
       "        text-align: right;\n",
       "    }\n",
       "</style>\n",
       "<table border=\"1\" class=\"dataframe\">\n",
       "  <thead>\n",
       "    <tr style=\"text-align: right;\">\n",
       "      <th></th>\n",
       "      <th>0</th>\n",
       "      <th>1</th>\n",
       "    </tr>\n",
       "  </thead>\n",
       "  <tbody>\n",
       "    <tr>\n",
       "      <th>0</th>\n",
       "      <td>9/9/2017 ARS Draft, review and revise email to client</td>\n",
       "      <td>0.10 32.50</td>\n",
       "    </tr>\n",
       "  </tbody>\n",
       "</table>\n",
       "</div>"
      ],
      "text/plain": [
       "                                                       0           1\n",
       "0  9/9/2017 ARS Draft, review and revise email to client  0.10 32.50"
      ]
     },
     "execution_count": 169,
     "metadata": {},
     "output_type": "execute_result"
    },
    {
     "name": "stdout",
     "output_type": "stream",
     "text": [
      "10\n"
     ]
    },
    {
     "data": {
      "text/html": [
       "<div>\n",
       "<style scoped>\n",
       "    .dataframe tbody tr th:only-of-type {\n",
       "        vertical-align: middle;\n",
       "    }\n",
       "\n",
       "    .dataframe tbody tr th {\n",
       "        vertical-align: top;\n",
       "    }\n",
       "\n",
       "    .dataframe thead th {\n",
       "        text-align: right;\n",
       "    }\n",
       "</style>\n",
       "<table border=\"1\" class=\"dataframe\">\n",
       "  <thead>\n",
       "    <tr style=\"text-align: right;\">\n",
       "      <th></th>\n",
       "      <th>0</th>\n",
       "      <th>1</th>\n",
       "    </tr>\n",
       "  </thead>\n",
       "  <tbody>\n",
       "    <tr>\n",
       "      <th>0</th>\n",
       "      <td>9/11/2017 ARS Travel to and from and attend first day of trial, travel to Kinkos to print</td>\n",
       "      <td>7.50 2,437.50</td>\n",
       "    </tr>\n",
       "  </tbody>\n",
       "</table>\n",
       "</div>"
      ],
      "text/plain": [
       "                                                                                           0  \\\n",
       "0  9/11/2017 ARS Travel to and from and attend first day of trial, travel to Kinkos to print   \n",
       "\n",
       "               1  \n",
       "0  7.50 2,437.50  "
      ]
     },
     "execution_count": 169,
     "metadata": {},
     "output_type": "execute_result"
    },
    {
     "name": "stdout",
     "output_type": "stream",
     "text": [
      "11\n"
     ]
    },
    {
     "data": {
      "text/html": [
       "<div>\n",
       "<style scoped>\n",
       "    .dataframe tbody tr th:only-of-type {\n",
       "        vertical-align: middle;\n",
       "    }\n",
       "\n",
       "    .dataframe tbody tr th {\n",
       "        vertical-align: top;\n",
       "    }\n",
       "\n",
       "    .dataframe thead th {\n",
       "        text-align: right;\n",
       "    }\n",
       "</style>\n",
       "<table border=\"1\" class=\"dataframe\">\n",
       "  <thead>\n",
       "    <tr style=\"text-align: right;\">\n",
       "      <th></th>\n",
       "      <th>0</th>\n",
       "      <th>1</th>\n",
       "    </tr>\n",
       "  </thead>\n",
       "  <tbody>\n",
       "    <tr>\n",
       "      <th>0</th>\n",
       "      <td>9/13/2017 ARS Phone call with Luna and Linda Pette regarding declaration, damages,</td>\n",
       "      <td>0.20 65.00</td>\n",
       "    </tr>\n",
       "  </tbody>\n",
       "</table>\n",
       "</div>"
      ],
      "text/plain": [
       "                                                                                    0  \\\n",
       "0  9/13/2017 ARS Phone call with Luna and Linda Pette regarding declaration, damages,   \n",
       "\n",
       "            1  \n",
       "0  0.20 65.00  "
      ]
     },
     "execution_count": 169,
     "metadata": {},
     "output_type": "execute_result"
    },
    {
     "name": "stdout",
     "output_type": "stream",
     "text": [
      "12\n"
     ]
    },
    {
     "data": {
      "text/html": [
       "<div>\n",
       "<style scoped>\n",
       "    .dataframe tbody tr th:only-of-type {\n",
       "        vertical-align: middle;\n",
       "    }\n",
       "\n",
       "    .dataframe tbody tr th {\n",
       "        vertical-align: top;\n",
       "    }\n",
       "\n",
       "    .dataframe thead th {\n",
       "        text-align: right;\n",
       "    }\n",
       "</style>\n",
       "<table border=\"1\" class=\"dataframe\">\n",
       "  <thead>\n",
       "    <tr style=\"text-align: right;\">\n",
       "      <th></th>\n",
       "      <th>0</th>\n",
       "      <th>1</th>\n",
       "    </tr>\n",
       "  </thead>\n",
       "  <tbody>\n",
       "    <tr>\n",
       "      <th>0</th>\n",
       "      <td>9/14/2017 ARS Review Luna's declaration to add references to trial exhibits for her</td>\n",
       "      <td>1.00 325.00</td>\n",
       "    </tr>\n",
       "  </tbody>\n",
       "</table>\n",
       "</div>"
      ],
      "text/plain": [
       "                                                                                     0  \\\n",
       "0  9/14/2017 ARS Review Luna's declaration to add references to trial exhibits for her   \n",
       "\n",
       "             1  \n",
       "0  1.00 325.00  "
      ]
     },
     "execution_count": 169,
     "metadata": {},
     "output_type": "execute_result"
    },
    {
     "name": "stdout",
     "output_type": "stream",
     "text": [
      "13\n"
     ]
    },
    {
     "data": {
      "text/html": [
       "<div>\n",
       "<style scoped>\n",
       "    .dataframe tbody tr th:only-of-type {\n",
       "        vertical-align: middle;\n",
       "    }\n",
       "\n",
       "    .dataframe tbody tr th {\n",
       "        vertical-align: top;\n",
       "    }\n",
       "\n",
       "    .dataframe thead th {\n",
       "        text-align: right;\n",
       "    }\n",
       "</style>\n",
       "<table border=\"1\" class=\"dataframe\">\n",
       "  <thead>\n",
       "    <tr style=\"text-align: right;\">\n",
       "      <th></th>\n",
       "      <th>0</th>\n",
       "      <th>1</th>\n",
       "    </tr>\n",
       "  </thead>\n",
       "  <tbody>\n",
       "    <tr>\n",
       "      <th>0</th>\n",
       "      <td>9/17/2017 ARS Draft, review and revise joint witness list; Draft, review and revise email</td>\n",
       "      <td>0.10 32.50</td>\n",
       "    </tr>\n",
       "  </tbody>\n",
       "</table>\n",
       "</div>"
      ],
      "text/plain": [
       "                                                                                           0  \\\n",
       "0  9/17/2017 ARS Draft, review and revise joint witness list; Draft, review and revise email   \n",
       "\n",
       "            1  \n",
       "0  0.10 32.50  "
      ]
     },
     "execution_count": 169,
     "metadata": {},
     "output_type": "execute_result"
    }
   ],
   "source": [
    "for i in range(len(df)):\n",
    "    print(i)\n",
    "    df[i].head(1)"
   ]
  },
  {
   "cell_type": "code",
   "execution_count": 195,
   "metadata": {},
   "outputs": [],
   "source": [
    "%run ./FUNCIONES.ipynb"
   ]
  },
  {
   "cell_type": "code",
   "execution_count": 196,
   "metadata": {},
   "outputs": [
    {
     "name": "stdout",
     "output_type": "stream",
     "text": [
      "0 0 1\n",
      "1 0 1\n",
      "2 0 1\n",
      "3 0 1\n",
      "4 0 1 2\n",
      "5 0\n",
      "6 0 1\n",
      "7 0 1\n",
      "8 0 1\n",
      "9 0 1\n",
      "10 0 1\n",
      "11 0 1\n",
      "12 0 1\n",
      "13 0 1\n"
     ]
    }
   ],
   "source": [
    "df_aux = []\n",
    "rpr = [\n",
    "    [1,1,1,2,2,2,2,2,1,1,1],\n",
    "    [2,2,2,2,1,2,1,2,2,2,1,3,2,2,1,1],\n",
    "    [2,3,2,2,1,1,1,3,2,2,1,1,1,1,1],\n",
    "    [1,1,1,1,1,1,1,1,1,1,1,1,1,2,2,2],\n",
    "    [2,2,2,1,3,1,1,2,2,1,1,2,1,1,1,1],\n",
    "    [1,1,1,4,2,2,1,1,2,1,2,1,2,2,2],\n",
    "    [1,2,1,1,1,2,2,2,2,2,2,1,1,1,2,2],\n",
    "    [1,1,2,2,2,1,3,5,1,3,1,1,1,1],\n",
    "    [1,1,1,2,1,5,2,3,1,1,1,1,1,1,2],\n",
    "    [1,1,1,1,1,1,1,1,1,1,1,1,1,3,1,1],\n",
    "    [2,2,2,4,3,3,2,1,1,1,1,2,2,1,1],\n",
    "    [2,1,2,2,2,3,2,2,3,3,3,2,2,2,2],\n",
    "    [2,2,3,2,2,4,3,2,2,2,1,1,2,1,1],\n",
    "    [2,1,2,1,1,2,1,3,2,1,1,1,1,1,1]\n",
    "]\n",
    "for i, dfs in enumerate(df):\n",
    "    if len(dfs.columns) == 1:\n",
    "        print(i, '0')\n",
    "        df_aux.append(dndhrt(dfs, rpr[i]))\n",
    "    elif len(dfs.columns) == 2:\n",
    "        print(i, '0 1')\n",
    "        df_aux.append(dnd_hrt(dfs, rpr[i]))\n",
    "    elif len(dfs.columns) == 3:\n",
    "        print(i, '0 1 2')\n",
    "        df_aux.append(dn_d_hrt(dfs, rpr[i]))\n",
    "    else:\n",
    "        raise ValueError()"
   ]
  },
  {
   "cell_type": "code",
   "execution_count": 197,
   "metadata": {},
   "outputs": [
    {
     "data": {
      "text/html": [
       "<div>\n",
       "<style scoped>\n",
       "    .dataframe tbody tr th:only-of-type {\n",
       "        vertical-align: middle;\n",
       "    }\n",
       "\n",
       "    .dataframe tbody tr th {\n",
       "        vertical-align: top;\n",
       "    }\n",
       "\n",
       "    .dataframe thead th {\n",
       "        text-align: right;\n",
       "    }\n",
       "</style>\n",
       "<table border=\"1\" class=\"dataframe\">\n",
       "  <thead>\n",
       "    <tr style=\"text-align: right;\">\n",
       "      <th></th>\n",
       "      <th>Date</th>\n",
       "      <th>Names</th>\n",
       "      <th>Description</th>\n",
       "      <th>Hours</th>\n",
       "      <th>Rates</th>\n",
       "      <th>Totals</th>\n",
       "    </tr>\n",
       "  </thead>\n",
       "  <tbody>\n",
       "    <tr>\n",
       "      <th>0</th>\n",
       "      <td>9/14/2017</td>\n",
       "      <td>ARS</td>\n",
       "      <td>Review Luna's declaration to add references to trial exhibits for her declaration exhibits to prepare to send to Judge Curry</td>\n",
       "      <td>1.00</td>\n",
       "      <td>325.0</td>\n",
       "      <td>325.0</td>\n",
       "    </tr>\n",
       "    <tr>\n",
       "      <th>1</th>\n",
       "      <td>9/15/2017</td>\n",
       "      <td>RMW</td>\n",
       "      <td>Travel to and from and attend deposition of expert Tom Lepper in San Francisco at Defendant's counsel's office; Conference with Tom Lepper preparing for deposition</td>\n",
       "      <td>10.00</td>\n",
       "      <td>500.0</td>\n",
       "      <td>5000.0</td>\n",
       "    </tr>\n",
       "    <tr>\n",
       "      <th>2</th>\n",
       "      <td>9/15/2017</td>\n",
       "      <td>ARS</td>\n",
       "      <td>Review email from Court clerk Graham regarding request for expert information for Judge Curry</td>\n",
       "      <td>0.10</td>\n",
       "      <td>325.0</td>\n",
       "      <td>32.5</td>\n",
       "    </tr>\n",
       "    <tr>\n",
       "      <th>3</th>\n",
       "      <td>9/15/2017</td>\n",
       "      <td>ARS</td>\n",
       "      <td>Draft, review and revise email to court clerk Graham regarding I am sending expert information by separate email</td>\n",
       "      <td>0.10</td>\n",
       "      <td>325.0</td>\n",
       "      <td>32.5</td>\n",
       "    </tr>\n",
       "    <tr>\n",
       "      <th>4</th>\n",
       "      <td>9/15/2017</td>\n",
       "      <td>ARS</td>\n",
       "      <td>Draft, review and revise err1aii to Judge Curry and cierk Graham regarding Luna deposition and Teran trial transcript, Micale Teran transcript, meet-and-confer emails regarding scheduling expert depositions and VI</td>\n",
       "      <td>0.10</td>\n",
       "      <td>325.0</td>\n",
       "      <td>32.5</td>\n",
       "    </tr>\n",
       "    <tr>\n",
       "      <th>5</th>\n",
       "      <td>9/15/2017</td>\n",
       "      <td>ARS</td>\n",
       "      <td>Draft, review and revise email to Judge Curry and c!erk Grnham regarding Luna declaration vvith trial exhibit numbers included 325.00/hr 1 Luna CV and testimony history exhibit</td>\n",
       "      <td>0.10</td>\n",
       "      <td>325.0</td>\n",
       "      <td>32.5</td>\n",
       "    </tr>\n",
       "    <tr>\n",
       "      <th>6</th>\n",
       "      <td>9/15/2017</td>\n",
       "      <td>ARS</td>\n",
       "      <td>Review and revise Luna declaration draft with notes indicating trial exhibit numbers to send to Judge Curry</td>\n",
       "      <td>1.00</td>\n",
       "      <td>325.0</td>\n",
       "      <td>325.0</td>\n",
       "    </tr>\n",
       "    <tr>\n",
       "      <th>7</th>\n",
       "      <td>9/16/2017</td>\n",
       "      <td>RMW</td>\n",
       "      <td>Review voir dire questions; Review and revise opening statement and motions in limine</td>\n",
       "      <td>3.50</td>\n",
       "      <td>500.0</td>\n",
       "      <td>1750.0</td>\n",
       "    </tr>\n",
       "    <tr>\n",
       "      <th>8</th>\n",
       "      <td>9/16/2017</td>\n",
       "      <td>RMW</td>\n",
       "      <td>Review and analyze FCA internal emails; investigations; and corrective action documentation</td>\n",
       "      <td>6.00</td>\n",
       "      <td>500.0</td>\n",
       "      <td>3000.0</td>\n",
       "    </tr>\n",
       "    <tr>\n",
       "      <th>9</th>\n",
       "      <td>9/17/2017</td>\n",
       "      <td>RMW</td>\n",
       "      <td>Prepare for day 1 of trial</td>\n",
       "      <td>2.00</td>\n",
       "      <td>500.0</td>\n",
       "      <td>1000.0</td>\n",
       "    </tr>\n",
       "    <tr>\n",
       "      <th>10</th>\n",
       "      <td>9/17/2017</td>\n",
       "      <td>RMW</td>\n",
       "      <td>Conference with clients</td>\n",
       "      <td>3.00</td>\n",
       "      <td>500.0</td>\n",
       "      <td>1500.0</td>\n",
       "    </tr>\n",
       "    <tr>\n",
       "      <th>11</th>\n",
       "      <td>9/17/2017</td>\n",
       "      <td>RMW</td>\n",
       "      <td>Review and analyze expert transcripts, declarations, and depositions in preparation for Motion in Limine argument</td>\n",
       "      <td>2.50</td>\n",
       "      <td>500.0</td>\n",
       "      <td>1250.0</td>\n",
       "    </tr>\n",
       "    <tr>\n",
       "      <th>12</th>\n",
       "      <td>9/17/2017</td>\n",
       "      <td>RMW</td>\n",
       "      <td>Travel to Roseville</td>\n",
       "      <td>5.00</td>\n",
       "      <td>500.0</td>\n",
       "      <td>2500.0</td>\n",
       "    </tr>\n",
       "    <tr>\n",
       "      <th>13</th>\n",
       "      <td>9/17/2017</td>\n",
       "      <td>ARS</td>\n",
       "      <td>Conference with clients</td>\n",
       "      <td>3.00</td>\n",
       "      <td>325.0</td>\n",
       "      <td>975.0</td>\n",
       "    </tr>\n",
       "  </tbody>\n",
       "</table>\n",
       "</div>"
      ],
      "text/plain": [
       "         Date Names  \\\n",
       "0   9/14/2017  ARS    \n",
       "1   9/15/2017  RMW    \n",
       "2   9/15/2017  ARS    \n",
       "3   9/15/2017  ARS    \n",
       "4   9/15/2017  ARS    \n",
       "5   9/15/2017  ARS    \n",
       "6   9/15/2017  ARS    \n",
       "7   9/16/2017  RMW    \n",
       "8   9/16/2017  RMW    \n",
       "9   9/17/2017  RMW    \n",
       "10  9/17/2017  RMW    \n",
       "11  9/17/2017  RMW    \n",
       "12  9/17/2017  RMW    \n",
       "13  9/17/2017  ARS    \n",
       "\n",
       "                                                                                                                                                                                                              Description  \\\n",
       "0   Review Luna's declaration to add references to trial exhibits for her declaration exhibits to prepare to send to Judge Curry                                                                                            \n",
       "1   Travel to and from and attend deposition of expert Tom Lepper in San Francisco at Defendant's counsel's office; Conference with Tom Lepper preparing for deposition                                                     \n",
       "2   Review email from Court clerk Graham regarding request for expert information for Judge Curry                                                                                                                           \n",
       "3   Draft, review and revise email to court clerk Graham regarding I am sending expert information by separate email                                                                                                        \n",
       "4   Draft, review and revise err1aii to Judge Curry and cierk Graham regarding Luna deposition and Teran trial transcript, Micale Teran transcript, meet-and-confer emails regarding scheduling expert depositions and VI   \n",
       "5   Draft, review and revise email to Judge Curry and c!erk Grnham regarding Luna declaration vvith trial exhibit numbers included 325.00/hr 1 Luna CV and testimony history exhibit                                        \n",
       "6   Review and revise Luna declaration draft with notes indicating trial exhibit numbers to send to Judge Curry                                                                                                             \n",
       "7   Review voir dire questions; Review and revise opening statement and motions in limine                                                                                                                                   \n",
       "8   Review and analyze FCA internal emails; investigations; and corrective action documentation                                                                                                                             \n",
       "9   Prepare for day 1 of trial                                                                                                                                                                                              \n",
       "10  Conference with clients                                                                                                                                                                                                 \n",
       "11  Review and analyze expert transcripts, declarations, and depositions in preparation for Motion in Limine argument                                                                                                       \n",
       "12  Travel to Roseville                                                                                                                                                                                                     \n",
       "13  Conference with clients                                                                                                                                                                                                 \n",
       "\n",
       "    Hours  Rates  Totals  \n",
       "0   1.00   325.0  325.0   \n",
       "1   10.00  500.0  5000.0  \n",
       "2   0.10   325.0  32.5    \n",
       "3   0.10   325.0  32.5    \n",
       "4   0.10   325.0  32.5    \n",
       "5   0.10   325.0  32.5    \n",
       "6   1.00   325.0  325.0   \n",
       "7   3.50   500.0  1750.0  \n",
       "8   6.00   500.0  3000.0  \n",
       "9   2.00   500.0  1000.0  \n",
       "10  3.00   500.0  1500.0  \n",
       "11  2.50   500.0  1250.0  \n",
       "12  5.00   500.0  2500.0  \n",
       "13  3.00   325.0  975.0   "
      ]
     },
     "execution_count": 197,
     "metadata": {},
     "output_type": "execute_result"
    }
   ],
   "source": [
    "df_aux[12]"
   ]
  },
  {
   "cell_type": "code",
   "execution_count": 172,
   "metadata": {},
   "outputs": [
    {
     "name": "stdout",
     "output_type": "stream",
     "text": [
      "0\n"
     ]
    },
    {
     "data": {
      "text/plain": [
       "(5, 6)"
      ]
     },
     "execution_count": 172,
     "metadata": {},
     "output_type": "execute_result"
    },
    {
     "name": "stdout",
     "output_type": "stream",
     "text": [
      "1\n"
     ]
    },
    {
     "data": {
      "text/plain": [
       "(12, 6)"
      ]
     },
     "execution_count": 172,
     "metadata": {},
     "output_type": "execute_result"
    },
    {
     "name": "stdout",
     "output_type": "stream",
     "text": [
      "2\n"
     ]
    },
    {
     "data": {
      "text/plain": [
       "(11, 6)"
      ]
     },
     "execution_count": 172,
     "metadata": {},
     "output_type": "execute_result"
    },
    {
     "name": "stdout",
     "output_type": "stream",
     "text": [
      "3\n"
     ]
    },
    {
     "data": {
      "text/plain": [
       "(14, 6)"
      ]
     },
     "execution_count": 172,
     "metadata": {},
     "output_type": "execute_result"
    },
    {
     "name": "stdout",
     "output_type": "stream",
     "text": [
      "4\n"
     ]
    },
    {
     "data": {
      "text/plain": [
       "(16, 6)"
      ]
     },
     "execution_count": 172,
     "metadata": {},
     "output_type": "execute_result"
    },
    {
     "name": "stdout",
     "output_type": "stream",
     "text": [
      "5\n"
     ]
    },
    {
     "data": {
      "text/plain": [
       "(7, 6)"
      ]
     },
     "execution_count": 172,
     "metadata": {},
     "output_type": "execute_result"
    },
    {
     "name": "stdout",
     "output_type": "stream",
     "text": [
      "6\n"
     ]
    },
    {
     "data": {
      "text/plain": [
       "(11, 6)"
      ]
     },
     "execution_count": 172,
     "metadata": {},
     "output_type": "execute_result"
    },
    {
     "name": "stdout",
     "output_type": "stream",
     "text": [
      "7\n"
     ]
    },
    {
     "data": {
      "text/plain": [
       "(10, 6)"
      ]
     },
     "execution_count": 172,
     "metadata": {},
     "output_type": "execute_result"
    },
    {
     "name": "stdout",
     "output_type": "stream",
     "text": [
      "8\n"
     ]
    },
    {
     "data": {
      "text/plain": [
       "(12, 6)"
      ]
     },
     "execution_count": 172,
     "metadata": {},
     "output_type": "execute_result"
    },
    {
     "name": "stdout",
     "output_type": "stream",
     "text": [
      "9\n"
     ]
    },
    {
     "data": {
      "text/plain": [
       "(16, 6)"
      ]
     },
     "execution_count": 172,
     "metadata": {},
     "output_type": "execute_result"
    },
    {
     "name": "stdout",
     "output_type": "stream",
     "text": [
      "10\n"
     ]
    },
    {
     "data": {
      "text/plain": [
       "(9, 6)"
      ]
     },
     "execution_count": 172,
     "metadata": {},
     "output_type": "execute_result"
    },
    {
     "name": "stdout",
     "output_type": "stream",
     "text": [
      "11\n"
     ]
    },
    {
     "data": {
      "text/plain": [
       "(10, 6)"
      ]
     },
     "execution_count": 172,
     "metadata": {},
     "output_type": "execute_result"
    },
    {
     "name": "stdout",
     "output_type": "stream",
     "text": [
      "12\n"
     ]
    },
    {
     "data": {
      "text/plain": [
       "(14, 6)"
      ]
     },
     "execution_count": 172,
     "metadata": {},
     "output_type": "execute_result"
    },
    {
     "name": "stdout",
     "output_type": "stream",
     "text": [
      "13\n"
     ]
    },
    {
     "data": {
      "text/plain": [
       "(12, 6)"
      ]
     },
     "execution_count": 172,
     "metadata": {},
     "output_type": "execute_result"
    }
   ],
   "source": [
    "for i, dfs in enumerate(df_aux):\n",
    "    print(i)\n",
    "    dfs.shape"
   ]
  },
  {
   "cell_type": "code",
   "execution_count": 198,
   "metadata": {},
   "outputs": [],
   "source": [
    "DF = pd.concat(df_aux)"
   ]
  },
  {
   "cell_type": "code",
   "execution_count": 199,
   "metadata": {},
   "outputs": [
    {
     "data": {
      "text/plain": [
       "(159, 6)"
      ]
     },
     "execution_count": 199,
     "metadata": {},
     "output_type": "execute_result"
    }
   ],
   "source": [
    "DF.shape"
   ]
  },
  {
   "cell_type": "code",
   "execution_count": 200,
   "metadata": {},
   "outputs": [],
   "source": [
    "DF.to_excel(r\"C:\\Users\\brian\\Desktop\\trabajillo\\\\1088890.xlsx\", index=False)"
   ]
  },
  {
   "cell_type": "code",
   "execution_count": null,
   "metadata": {},
   "outputs": [],
   "source": []
  }
 ],
 "metadata": {
  "kernelspec": {
   "display_name": "Python 3",
   "language": "python",
   "name": "python3"
  },
  "language_info": {
   "codemirror_mode": {
    "name": "ipython",
    "version": 3
   },
   "file_extension": ".py",
   "mimetype": "text/x-python",
   "name": "python",
   "nbconvert_exporter": "python",
   "pygments_lexer": "ipython3",
   "version": "3.7.1"
  },
  "toc": {
   "base_numbering": 1,
   "nav_menu": {},
   "number_sections": false,
   "sideBar": true,
   "skip_h1_title": false,
   "title_cell": "Table of Contents",
   "title_sidebar": "Contents",
   "toc_cell": false,
   "toc_position": {},
   "toc_section_display": true,
   "toc_window_display": false
  }
 },
 "nbformat": 4,
 "nbformat_minor": 2
}
