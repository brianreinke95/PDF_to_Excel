{
 "cells": [
  {
   "cell_type": "code",
   "execution_count": 1,
   "metadata": {},
   "outputs": [],
   "source": [
    "from IPython.core.interactiveshell import InteractiveShell\n",
    "InteractiveShell.ast_node_interactivity = \"all\""
   ]
  },
  {
   "cell_type": "code",
   "execution_count": 150,
   "metadata": {},
   "outputs": [],
   "source": [
    "import tabula\n",
    "from tabula import read_pdf\n",
    "import numpy as np\n",
    "import pandas as pd\n",
    "import re as regex\n",
    "df = read_pdf('1088887.pdf', guess=False, stream=True, pages='all', multiple_tables=True,  pandas_options={'header':None})"
   ]
  },
  {
   "cell_type": "code",
   "execution_count": 151,
   "metadata": {},
   "outputs": [],
   "source": [
    "pd.set_option('display.max_colwidth', -1)  #Veo hasta la última palabra\n",
    "pd.set_option('display.max_rows', 1000)"
   ]
  },
  {
   "cell_type": "code",
   "execution_count": 152,
   "metadata": {},
   "outputs": [],
   "source": [
    "df[8] = df[8].drop(0, axis=1)"
   ]
  },
  {
   "cell_type": "code",
   "execution_count": 153,
   "metadata": {},
   "outputs": [],
   "source": [
    "df[0] = df[0].drop(df[0].head(14).index, axis=0)\n",
    "df[0] = df[0].reset_index(drop=True)"
   ]
  },
  {
   "cell_type": "code",
   "execution_count": 154,
   "metadata": {},
   "outputs": [],
   "source": [
    "df = [x.dropna(axis=1, how='all') for x in df]\n",
    "for df_aux in df:\n",
    "    df_aux.columns = np.arange(0, len(df_aux.columns), 1)"
   ]
  },
  {
   "cell_type": "code",
   "execution_count": 155,
   "metadata": {},
   "outputs": [],
   "source": [
    "df[5].loc[5, 0] = '4/7/2017 ARS Travel to and from and attend trial readiness conference in San Diego 1.80 585.00'"
   ]
  },
  {
   "cell_type": "code",
   "execution_count": 156,
   "metadata": {},
   "outputs": [],
   "source": [
    "lista_head_drop = []\n",
    "for dfs in df[1:]:\n",
    "    dfs.loc[:, 0] = dfs.loc[:, 0].apply(str)\n",
    "    filtery = [True if regex.search(r'\\d{1,2}/\\d{1,2}/\\d{4}', x) else False for x in dfs.loc[:, 0]]\n",
    "    # finding first True value \n",
    "    # USA GENERADORES\n",
    "    # using next() and enumerate() \n",
    "    pos = next((i for i, j in enumerate(filtery) if j), None) \n",
    "    lista_head_drop.append(pos)\n",
    "    dfs.loc[:, 0] = dfs.loc[:, 0].replace('nan', np.NaN)"
   ]
  },
  {
   "cell_type": "code",
   "execution_count": 157,
   "metadata": {},
   "outputs": [],
   "source": [
    "for i, dfs in enumerate(df[1:], start=1):\n",
    "    df[i] = df[i].drop(df[i].head(lista_head_drop[i-1]).index, axis=0)"
   ]
  },
  {
   "cell_type": "code",
   "execution_count": 158,
   "metadata": {},
   "outputs": [],
   "source": [
    "df = [x.drop(x.tail(2).index, axis=0) for x in df]"
   ]
  },
  {
   "cell_type": "code",
   "execution_count": 159,
   "metadata": {},
   "outputs": [],
   "source": [
    "df[3].loc[9, 1] = 'Prepare for, travel to and from, and take deposition of Expert Richard 8.50 4,250.00'\n",
    "df[3].loc[9, 0] = 'RMW'\n",
    "df[3].loc[19, 1] = 'Review, analyze and annotate trial exhibits 3.50 1,750.00'\n",
    "df[3].loc[19, 0] = '4/4/2017 RMW'\n",
    "filtery = [True if not pd.isna(x) else False for x in df[4].loc[:, 1]]\n",
    "df[4].loc[filtery, 0] = df[4].loc[filtery, 0] + ' ' + df[4].loc[filtery, 1]\n",
    "df[4].loc[filtery, 1] = np.NaN\n",
    "df[10].loc[29, 1] = 'Review and analyze trial docs'\n",
    "df[10].loc[29, 0] = '8/29/2017 RMW'\n",
    "df[10].loc[31, 1] = 'Outline trial'\n",
    "df[10].loc[31, 0] = 'RMW'\n",
    "df[10].loc[33, 1] = 'Review damages'\n",
    "df[10].loc[33, 0] = 'RMW'\n",
    "df[10].loc[35, 1] = 'Draft, review and revise opening statement'\n",
    "df[10].loc[35, 0] = 'RMW'\n",
    "df[11].loc[4, 1] = 'Review deposition( s) for trial 2.90 1,450.00'\n",
    "df[11].loc[4, 0] = '8/30/2017 RMW'"
   ]
  },
  {
   "cell_type": "code",
   "execution_count": 160,
   "metadata": {},
   "outputs": [],
   "source": [
    "df = [x.dropna(axis=1, how='all') for x in df]\n",
    "for df_aux in df:\n",
    "    df_aux.columns = np.arange(0, len(df_aux.columns), 1)"
   ]
  },
  {
   "cell_type": "code",
   "execution_count": 161,
   "metadata": {},
   "outputs": [],
   "source": [
    "df[12] = df[12].loc[4:16, :]"
   ]
  },
  {
   "cell_type": "code",
   "execution_count": 162,
   "metadata": {},
   "outputs": [
    {
     "name": "stderr",
     "output_type": "stream",
     "text": [
      "C:\\Users\\brian\\Anaconda3\\lib\\site-packages\\pandas\\core\\indexing.py:189: SettingWithCopyWarning: \n",
      "A value is trying to be set on a copy of a slice from a DataFrame\n",
      "\n",
      "See the caveats in the documentation: http://pandas.pydata.org/pandas-docs/stable/indexing.html#indexing-view-versus-copy\n",
      "  self._setitem_with_indexer(indexer, value)\n",
      "C:\\Users\\brian\\Anaconda3\\lib\\site-packages\\ipykernel_launcher.py:1: SettingWithCopyWarning: \n",
      "A value is trying to be set on a copy of a slice from a DataFrame\n",
      "\n",
      "See the caveats in the documentation: http://pandas.pydata.org/pandas-docs/stable/indexing.html#indexing-view-versus-copy\n",
      "  \"\"\"Entry point for launching an IPython kernel.\n"
     ]
    }
   ],
   "source": [
    "df[12].loc[15, 0] = '5/7/2018 LBS'"
   ]
  },
  {
   "cell_type": "code",
   "execution_count": 163,
   "metadata": {},
   "outputs": [],
   "source": [
    "df[0].loc[13, 1] = '175.00/hr'"
   ]
  },
  {
   "cell_type": "code",
   "execution_count": 164,
   "metadata": {},
   "outputs": [],
   "source": [
    "df[6].loc[:, 1] = df[6].loc[:, 1].str.replace('i', '/')"
   ]
  },
  {
   "cell_type": "code",
   "execution_count": 169,
   "metadata": {},
   "outputs": [],
   "source": [
    "df[9].loc[15, 1] = '325.00/hr'"
   ]
  },
  {
   "cell_type": "code",
   "execution_count": 173,
   "metadata": {},
   "outputs": [],
   "source": [
    "df[2].loc[16, 1] = '325.00/hr'"
   ]
  },
  {
   "cell_type": "code",
   "execution_count": 183,
   "metadata": {},
   "outputs": [],
   "source": [
    "df[5].loc[16, 0] = 'Deposition of Plaintiffs Expert Barbara Luna (4-17-i7) 175.00/hr'"
   ]
  },
  {
   "cell_type": "code",
   "execution_count": 165,
   "metadata": {
    "scrolled": true
   },
   "outputs": [
    {
     "name": "stdout",
     "output_type": "stream",
     "text": [
      "0\n"
     ]
    },
    {
     "data": {
      "text/html": [
       "<div>\n",
       "<style scoped>\n",
       "    .dataframe tbody tr th:only-of-type {\n",
       "        vertical-align: middle;\n",
       "    }\n",
       "\n",
       "    .dataframe tbody tr th {\n",
       "        vertical-align: top;\n",
       "    }\n",
       "\n",
       "    .dataframe thead th {\n",
       "        text-align: right;\n",
       "    }\n",
       "</style>\n",
       "<table border=\"1\" class=\"dataframe\">\n",
       "  <thead>\n",
       "    <tr style=\"text-align: right;\">\n",
       "      <th></th>\n",
       "      <th>0</th>\n",
       "      <th>1</th>\n",
       "    </tr>\n",
       "  </thead>\n",
       "  <tbody>\n",
       "    <tr>\n",
       "      <th>0</th>\n",
       "      <td>3/3/2017 RMW Receive and review RO summary</td>\n",
       "      <td>0.30 150.00</td>\n",
       "    </tr>\n",
       "    <tr>\n",
       "      <th>1</th>\n",
       "      <td>NaN</td>\n",
       "      <td>500.00/hr</td>\n",
       "    </tr>\n",
       "  </tbody>\n",
       "</table>\n",
       "</div>"
      ],
      "text/plain": [
       "                                            0            1\n",
       "0  3/3/2017 RMW Receive and review RO summary  0.30 150.00\n",
       "1  NaN                                         500.00/hr  "
      ]
     },
     "execution_count": 165,
     "metadata": {},
     "output_type": "execute_result"
    },
    {
     "name": "stdout",
     "output_type": "stream",
     "text": [
      "1\n"
     ]
    },
    {
     "data": {
      "text/html": [
       "<div>\n",
       "<style scoped>\n",
       "    .dataframe tbody tr th:only-of-type {\n",
       "        vertical-align: middle;\n",
       "    }\n",
       "\n",
       "    .dataframe tbody tr th {\n",
       "        vertical-align: top;\n",
       "    }\n",
       "\n",
       "    .dataframe thead th {\n",
       "        text-align: right;\n",
       "    }\n",
       "</style>\n",
       "<table border=\"1\" class=\"dataframe\">\n",
       "  <thead>\n",
       "    <tr style=\"text-align: right;\">\n",
       "      <th></th>\n",
       "      <th>0</th>\n",
       "    </tr>\n",
       "  </thead>\n",
       "  <tbody>\n",
       "    <tr>\n",
       "      <th>6</th>\n",
       "      <td>3/14/2017 EJ Draft email from Kristi Livedalen (NP) regarding expert depositions and 0.10 NO CHARGE</td>\n",
       "    </tr>\n",
       "    <tr>\n",
       "      <th>7</th>\n",
       "      <td>vehicle inspection scheduling 175.00/hr</td>\n",
       "    </tr>\n",
       "  </tbody>\n",
       "</table>\n",
       "</div>"
      ],
      "text/plain": [
       "                                                                                                     0\n",
       "6  3/14/2017 EJ Draft email from Kristi Livedalen (NP) regarding expert depositions and 0.10 NO CHARGE\n",
       "7  vehicle inspection scheduling 175.00/hr                                                            "
      ]
     },
     "execution_count": 165,
     "metadata": {},
     "output_type": "execute_result"
    },
    {
     "name": "stdout",
     "output_type": "stream",
     "text": [
      "2\n"
     ]
    },
    {
     "data": {
      "text/html": [
       "<div>\n",
       "<style scoped>\n",
       "    .dataframe tbody tr th:only-of-type {\n",
       "        vertical-align: middle;\n",
       "    }\n",
       "\n",
       "    .dataframe tbody tr th {\n",
       "        vertical-align: top;\n",
       "    }\n",
       "\n",
       "    .dataframe thead th {\n",
       "        text-align: right;\n",
       "    }\n",
       "</style>\n",
       "<table border=\"1\" class=\"dataframe\">\n",
       "  <thead>\n",
       "    <tr style=\"text-align: right;\">\n",
       "      <th></th>\n",
       "      <th>0</th>\n",
       "      <th>1</th>\n",
       "    </tr>\n",
       "  </thead>\n",
       "  <tbody>\n",
       "    <tr>\n",
       "      <th>5</th>\n",
       "      <td>3/21/2017 EJ</td>\n",
       "      <td>Draft, prepare, and serve Plaintiff's Objections to Notice of Deposition 0.30 52.50</td>\n",
       "    </tr>\n",
       "    <tr>\n",
       "      <th>6</th>\n",
       "      <td>NaN</td>\n",
       "      <td>of Plaintiff (3-23-17) 175.00/hr</td>\n",
       "    </tr>\n",
       "  </tbody>\n",
       "</table>\n",
       "</div>"
      ],
      "text/plain": [
       "              0  \\\n",
       "5  3/21/2017 EJ   \n",
       "6  NaN            \n",
       "\n",
       "                                                                                     1  \n",
       "5  Draft, prepare, and serve Plaintiff's Objections to Notice of Deposition 0.30 52.50  \n",
       "6  of Plaintiff (3-23-17) 175.00/hr                                                     "
      ]
     },
     "execution_count": 165,
     "metadata": {},
     "output_type": "execute_result"
    },
    {
     "name": "stdout",
     "output_type": "stream",
     "text": [
      "3\n"
     ]
    },
    {
     "data": {
      "text/html": [
       "<div>\n",
       "<style scoped>\n",
       "    .dataframe tbody tr th:only-of-type {\n",
       "        vertical-align: middle;\n",
       "    }\n",
       "\n",
       "    .dataframe tbody tr th {\n",
       "        vertical-align: top;\n",
       "    }\n",
       "\n",
       "    .dataframe thead th {\n",
       "        text-align: right;\n",
       "    }\n",
       "</style>\n",
       "<table border=\"1\" class=\"dataframe\">\n",
       "  <thead>\n",
       "    <tr style=\"text-align: right;\">\n",
       "      <th></th>\n",
       "      <th>0</th>\n",
       "      <th>1</th>\n",
       "    </tr>\n",
       "  </thead>\n",
       "  <tbody>\n",
       "    <tr>\n",
       "      <th>5</th>\n",
       "      <td>3/31/2017 EJ</td>\n",
       "      <td>Email serve Lisa Tudzin (NP) documents to be produced at deposition 0.10 NO CHARGE</td>\n",
       "    </tr>\n",
       "    <tr>\n",
       "      <th>6</th>\n",
       "      <td>NaN</td>\n",
       "      <td>of Darrell Blasjo (4-5-17) 175.00/hr</td>\n",
       "    </tr>\n",
       "  </tbody>\n",
       "</table>\n",
       "</div>"
      ],
      "text/plain": [
       "              0  \\\n",
       "5  3/31/2017 EJ   \n",
       "6  NaN            \n",
       "\n",
       "                                                                                    1  \n",
       "5  Email serve Lisa Tudzin (NP) documents to be produced at deposition 0.10 NO CHARGE  \n",
       "6  of Darrell Blasjo (4-5-17) 175.00/hr                                                "
      ]
     },
     "execution_count": 165,
     "metadata": {},
     "output_type": "execute_result"
    },
    {
     "name": "stdout",
     "output_type": "stream",
     "text": [
      "4\n"
     ]
    },
    {
     "data": {
      "text/html": [
       "<div>\n",
       "<style scoped>\n",
       "    .dataframe tbody tr th:only-of-type {\n",
       "        vertical-align: middle;\n",
       "    }\n",
       "\n",
       "    .dataframe tbody tr th {\n",
       "        vertical-align: top;\n",
       "    }\n",
       "\n",
       "    .dataframe thead th {\n",
       "        text-align: right;\n",
       "    }\n",
       "</style>\n",
       "<table border=\"1\" class=\"dataframe\">\n",
       "  <thead>\n",
       "    <tr style=\"text-align: right;\">\n",
       "      <th></th>\n",
       "      <th>0</th>\n",
       "      <th>1</th>\n",
       "    </tr>\n",
       "  </thead>\n",
       "  <tbody>\n",
       "    <tr>\n",
       "      <th>7</th>\n",
       "      <td>4/4/2017 EJ Review email from Lisa Tudzin (NP) regarding status of vehicle for</td>\n",
       "      <td>0.10 NO CHARGE</td>\n",
       "    </tr>\n",
       "    <tr>\n",
       "      <th>8</th>\n",
       "      <td>inspection</td>\n",
       "      <td>175.00/hr</td>\n",
       "    </tr>\n",
       "  </tbody>\n",
       "</table>\n",
       "</div>"
      ],
      "text/plain": [
       "                                                                                0  \\\n",
       "7  4/4/2017 EJ Review email from Lisa Tudzin (NP) regarding status of vehicle for   \n",
       "8  inspection                                                                       \n",
       "\n",
       "                1  \n",
       "7  0.10 NO CHARGE  \n",
       "8  175.00/hr       "
      ]
     },
     "execution_count": 165,
     "metadata": {},
     "output_type": "execute_result"
    },
    {
     "name": "stdout",
     "output_type": "stream",
     "text": [
      "5\n"
     ]
    },
    {
     "data": {
      "text/html": [
       "<div>\n",
       "<style scoped>\n",
       "    .dataframe tbody tr th:only-of-type {\n",
       "        vertical-align: middle;\n",
       "    }\n",
       "\n",
       "    .dataframe tbody tr th {\n",
       "        vertical-align: top;\n",
       "    }\n",
       "\n",
       "    .dataframe thead th {\n",
       "        text-align: right;\n",
       "    }\n",
       "</style>\n",
       "<table border=\"1\" class=\"dataframe\">\n",
       "  <thead>\n",
       "    <tr style=\"text-align: right;\">\n",
       "      <th></th>\n",
       "      <th>0</th>\n",
       "    </tr>\n",
       "  </thead>\n",
       "  <tbody>\n",
       "    <tr>\n",
       "      <th>5</th>\n",
       "      <td>4/7/2017 ARS Travel to and from and attend trial readiness conference in San Diego 1.80 585.00</td>\n",
       "    </tr>\n",
       "    <tr>\n",
       "      <th>6</th>\n",
       "      <td>325.00/hr</td>\n",
       "    </tr>\n",
       "  </tbody>\n",
       "</table>\n",
       "</div>"
      ],
      "text/plain": [
       "                                                                                                0\n",
       "5  4/7/2017 ARS Travel to and from and attend trial readiness conference in San Diego 1.80 585.00\n",
       "6  325.00/hr                                                                                     "
      ]
     },
     "execution_count": 165,
     "metadata": {},
     "output_type": "execute_result"
    },
    {
     "name": "stdout",
     "output_type": "stream",
     "text": [
      "6\n"
     ]
    },
    {
     "data": {
      "text/html": [
       "<div>\n",
       "<style scoped>\n",
       "    .dataframe tbody tr th:only-of-type {\n",
       "        vertical-align: middle;\n",
       "    }\n",
       "\n",
       "    .dataframe tbody tr th {\n",
       "        vertical-align: top;\n",
       "    }\n",
       "\n",
       "    .dataframe thead th {\n",
       "        text-align: right;\n",
       "    }\n",
       "</style>\n",
       "<table border=\"1\" class=\"dataframe\">\n",
       "  <thead>\n",
       "    <tr style=\"text-align: right;\">\n",
       "      <th></th>\n",
       "      <th>0</th>\n",
       "      <th>1</th>\n",
       "    </tr>\n",
       "  </thead>\n",
       "  <tbody>\n",
       "    <tr>\n",
       "      <th>7</th>\n",
       "      <td>4/19/2017 EJ Prepare, file, and serve Plaintiffs Opposition to Defendants' Motions in</td>\n",
       "      <td>0.20 35.00</td>\n",
       "    </tr>\n",
       "    <tr>\n",
       "      <th>8</th>\n",
       "      <td>Limine #1</td>\n",
       "      <td>175.00/hr</td>\n",
       "    </tr>\n",
       "  </tbody>\n",
       "</table>\n",
       "</div>"
      ],
      "text/plain": [
       "                                                                                       0  \\\n",
       "7  4/19/2017 EJ Prepare, file, and serve Plaintiffs Opposition to Defendants' Motions in   \n",
       "8  Limine #1                                                                               \n",
       "\n",
       "            1  \n",
       "7  0.20 35.00  \n",
       "8  175.00/hr   "
      ]
     },
     "execution_count": 165,
     "metadata": {},
     "output_type": "execute_result"
    },
    {
     "name": "stdout",
     "output_type": "stream",
     "text": [
      "7\n"
     ]
    },
    {
     "data": {
      "text/html": [
       "<div>\n",
       "<style scoped>\n",
       "    .dataframe tbody tr th:only-of-type {\n",
       "        vertical-align: middle;\n",
       "    }\n",
       "\n",
       "    .dataframe tbody tr th {\n",
       "        vertical-align: top;\n",
       "    }\n",
       "\n",
       "    .dataframe thead th {\n",
       "        text-align: right;\n",
       "    }\n",
       "</style>\n",
       "<table border=\"1\" class=\"dataframe\">\n",
       "  <thead>\n",
       "    <tr style=\"text-align: right;\">\n",
       "      <th></th>\n",
       "      <th>0</th>\n",
       "      <th>1</th>\n",
       "    </tr>\n",
       "  </thead>\n",
       "  <tbody>\n",
       "    <tr>\n",
       "      <th>7</th>\n",
       "      <td>4/20/2017 ARS Draft, review and revise trial brief regarding affirmative duty special jury</td>\n",
       "      <td>1.00 325.00</td>\n",
       "    </tr>\n",
       "    <tr>\n",
       "      <th>8</th>\n",
       "      <td>instruction</td>\n",
       "      <td>325.00/hr</td>\n",
       "    </tr>\n",
       "  </tbody>\n",
       "</table>\n",
       "</div>"
      ],
      "text/plain": [
       "                                                                                            0  \\\n",
       "7  4/20/2017 ARS Draft, review and revise trial brief regarding affirmative duty special jury   \n",
       "8  instruction                                                                                  \n",
       "\n",
       "             1  \n",
       "7  1.00 325.00  \n",
       "8  325.00/hr    "
      ]
     },
     "execution_count": 165,
     "metadata": {},
     "output_type": "execute_result"
    },
    {
     "name": "stdout",
     "output_type": "stream",
     "text": [
      "8\n"
     ]
    },
    {
     "data": {
      "text/html": [
       "<div>\n",
       "<style scoped>\n",
       "    .dataframe tbody tr th:only-of-type {\n",
       "        vertical-align: middle;\n",
       "    }\n",
       "\n",
       "    .dataframe tbody tr th {\n",
       "        vertical-align: top;\n",
       "    }\n",
       "\n",
       "    .dataframe thead th {\n",
       "        text-align: right;\n",
       "    }\n",
       "</style>\n",
       "<table border=\"1\" class=\"dataframe\">\n",
       "  <thead>\n",
       "    <tr style=\"text-align: right;\">\n",
       "      <th></th>\n",
       "      <th>0</th>\n",
       "      <th>1</th>\n",
       "    </tr>\n",
       "  </thead>\n",
       "  <tbody>\n",
       "    <tr>\n",
       "      <th>8</th>\n",
       "      <td>5/16/2017 ARS Review email from client</td>\n",
       "      <td>0.10 32.50</td>\n",
       "    </tr>\n",
       "    <tr>\n",
       "      <th>9</th>\n",
       "      <td>NaN</td>\n",
       "      <td>325.00/hr</td>\n",
       "    </tr>\n",
       "  </tbody>\n",
       "</table>\n",
       "</div>"
      ],
      "text/plain": [
       "                                        0           1\n",
       "8  5/16/2017 ARS Review email from client  0.10 32.50\n",
       "9  NaN                                     325.00/hr "
      ]
     },
     "execution_count": 165,
     "metadata": {},
     "output_type": "execute_result"
    },
    {
     "name": "stdout",
     "output_type": "stream",
     "text": [
      "9\n"
     ]
    },
    {
     "data": {
      "text/html": [
       "<div>\n",
       "<style scoped>\n",
       "    .dataframe tbody tr th:only-of-type {\n",
       "        vertical-align: middle;\n",
       "    }\n",
       "\n",
       "    .dataframe tbody tr th {\n",
       "        vertical-align: top;\n",
       "    }\n",
       "\n",
       "    .dataframe thead th {\n",
       "        text-align: right;\n",
       "    }\n",
       "</style>\n",
       "<table border=\"1\" class=\"dataframe\">\n",
       "  <thead>\n",
       "    <tr style=\"text-align: right;\">\n",
       "      <th></th>\n",
       "      <th>0</th>\n",
       "      <th>1</th>\n",
       "    </tr>\n",
       "  </thead>\n",
       "  <tbody>\n",
       "    <tr>\n",
       "      <th>4</th>\n",
       "      <td>6/28/2017 ARS</td>\n",
       "      <td>Review and revise joint jury instruction draft 0.50 162.50</td>\n",
       "    </tr>\n",
       "    <tr>\n",
       "      <th>5</th>\n",
       "      <td>NaN</td>\n",
       "      <td>325.00/hr</td>\n",
       "    </tr>\n",
       "  </tbody>\n",
       "</table>\n",
       "</div>"
      ],
      "text/plain": [
       "               0                                                           1\n",
       "4  6/28/2017 ARS  Review and revise joint jury instruction draft 0.50 162.50\n",
       "5  NaN            325.00/hr                                                 "
      ]
     },
     "execution_count": 165,
     "metadata": {},
     "output_type": "execute_result"
    },
    {
     "name": "stdout",
     "output_type": "stream",
     "text": [
      "10\n"
     ]
    },
    {
     "data": {
      "text/html": [
       "<div>\n",
       "<style scoped>\n",
       "    .dataframe tbody tr th:only-of-type {\n",
       "        vertical-align: middle;\n",
       "    }\n",
       "\n",
       "    .dataframe tbody tr th {\n",
       "        vertical-align: top;\n",
       "    }\n",
       "\n",
       "    .dataframe thead th {\n",
       "        text-align: right;\n",
       "    }\n",
       "</style>\n",
       "<table border=\"1\" class=\"dataframe\">\n",
       "  <thead>\n",
       "    <tr style=\"text-align: right;\">\n",
       "      <th></th>\n",
       "      <th>0</th>\n",
       "      <th>1</th>\n",
       "      <th>2</th>\n",
       "    </tr>\n",
       "  </thead>\n",
       "  <tbody>\n",
       "    <tr>\n",
       "      <th>5</th>\n",
       "      <td>8/1/2017 ARS</td>\n",
       "      <td>Phone call to client</td>\n",
       "      <td>0.10 32.50</td>\n",
       "    </tr>\n",
       "    <tr>\n",
       "      <th>6</th>\n",
       "      <td>NaN</td>\n",
       "      <td>NaN</td>\n",
       "      <td>325.00/hr</td>\n",
       "    </tr>\n",
       "  </tbody>\n",
       "</table>\n",
       "</div>"
      ],
      "text/plain": [
       "              0                     1           2\n",
       "5  8/1/2017 ARS  Phone call to client  0.10 32.50\n",
       "6  NaN           NaN                   325.00/hr "
      ]
     },
     "execution_count": 165,
     "metadata": {},
     "output_type": "execute_result"
    },
    {
     "name": "stdout",
     "output_type": "stream",
     "text": [
      "11\n"
     ]
    },
    {
     "data": {
      "text/html": [
       "<div>\n",
       "<style scoped>\n",
       "    .dataframe tbody tr th:only-of-type {\n",
       "        vertical-align: middle;\n",
       "    }\n",
       "\n",
       "    .dataframe tbody tr th {\n",
       "        vertical-align: top;\n",
       "    }\n",
       "\n",
       "    .dataframe thead th {\n",
       "        text-align: right;\n",
       "    }\n",
       "</style>\n",
       "<table border=\"1\" class=\"dataframe\">\n",
       "  <thead>\n",
       "    <tr style=\"text-align: right;\">\n",
       "      <th></th>\n",
       "      <th>0</th>\n",
       "      <th>1</th>\n",
       "    </tr>\n",
       "  </thead>\n",
       "  <tbody>\n",
       "    <tr>\n",
       "      <th>4</th>\n",
       "      <td>8/30/2017 RMW</td>\n",
       "      <td>Review deposition( s) for trial 2.90 1,450.00</td>\n",
       "    </tr>\n",
       "    <tr>\n",
       "      <th>5</th>\n",
       "      <td>NaN</td>\n",
       "      <td>500.00/hr</td>\n",
       "    </tr>\n",
       "  </tbody>\n",
       "</table>\n",
       "</div>"
      ],
      "text/plain": [
       "               0                                              1\n",
       "4  8/30/2017 RMW  Review deposition( s) for trial 2.90 1,450.00\n",
       "5  NaN            500.00/hr                                    "
      ]
     },
     "execution_count": 165,
     "metadata": {},
     "output_type": "execute_result"
    },
    {
     "name": "stdout",
     "output_type": "stream",
     "text": [
      "12\n"
     ]
    },
    {
     "data": {
      "text/html": [
       "<div>\n",
       "<style scoped>\n",
       "    .dataframe tbody tr th:only-of-type {\n",
       "        vertical-align: middle;\n",
       "    }\n",
       "\n",
       "    .dataframe tbody tr th {\n",
       "        vertical-align: top;\n",
       "    }\n",
       "\n",
       "    .dataframe thead th {\n",
       "        text-align: right;\n",
       "    }\n",
       "</style>\n",
       "<table border=\"1\" class=\"dataframe\">\n",
       "  <thead>\n",
       "    <tr style=\"text-align: right;\">\n",
       "      <th></th>\n",
       "      <th>0</th>\n",
       "      <th>1</th>\n",
       "    </tr>\n",
       "  </thead>\n",
       "  <tbody>\n",
       "    <tr>\n",
       "      <th>4</th>\n",
       "      <td>10/11/2017 RE</td>\n",
       "      <td>Telephone conference with Phillip Reznik regarding Barbara Luna's 0.20 35.00</td>\n",
       "    </tr>\n",
       "    <tr>\n",
       "      <th>5</th>\n",
       "      <td>NaN</td>\n",
       "      <td>declaration 175.00/hr</td>\n",
       "    </tr>\n",
       "  </tbody>\n",
       "</table>\n",
       "</div>"
      ],
      "text/plain": [
       "               0  \\\n",
       "4  10/11/2017 RE   \n",
       "5  NaN             \n",
       "\n",
       "                                                                              1  \n",
       "4  Telephone conference with Phillip Reznik regarding Barbara Luna's 0.20 35.00  \n",
       "5  declaration 175.00/hr                                                         "
      ]
     },
     "execution_count": 165,
     "metadata": {},
     "output_type": "execute_result"
    }
   ],
   "source": [
    "for i in range(len(df)):\n",
    "    print(i)\n",
    "    df[i].head(2)"
   ]
  },
  {
   "cell_type": "code",
   "execution_count": 166,
   "metadata": {},
   "outputs": [],
   "source": [
    "%run ./FUNCIONES.ipynb"
   ]
  },
  {
   "cell_type": "code",
   "execution_count": 184,
   "metadata": {
    "scrolled": true
   },
   "outputs": [
    {
     "name": "stdout",
     "output_type": "stream",
     "text": [
      "0 0 1\n",
      "1 0\n",
      "2 0 1\n",
      "3 0 1\n",
      "4 0 1\n",
      "5 0\n",
      "6 0 1\n",
      "7 0 1\n",
      "8 0 1\n",
      "9 0 1\n",
      "10 0 1 2\n",
      "11 0 1\n",
      "12 0 1\n"
     ]
    }
   ],
   "source": [
    "df_aux = []\n",
    "rpr = [\n",
    "    [1,1,1,2,2,2,2,3,2,2],\n",
    "    [2,2,2,1,1,1,1,1,1,1,1,1,1,1,1,1],\n",
    "    [2,2,2,2,2,1,2,2,2,2,2,2,2,2,1,1],\n",
    "    [2,1,2,2,2,2,2,1,2,2,2,2,2,2,2,2],\n",
    "    [2,2,2,1,1,1,1,2,1,1,1,1,2,2,1,1],\n",
    "    [1,1,2,1,2,2,1,2,1,2,2,2,1,1,2,1],\n",
    "    [2,2,1,1,1,1,1,2,2,2,2,2,2,2,2,2],\n",
    "    [2,1,1,2,1,2,2,2,1,1,1,1,2,1,1,1],\n",
    "    [1,1,1,1,1,1,2,1,1,1,1,1,1,1,1,1],\n",
    "    [1,1,2,1,1,1,1,1,1,1,1,1,2,1,2,2],\n",
    "    [1,1,1,2,1,2,1,1,1,1,1,1,1,1,1,1],\n",
    "    [1,6,1,1,1,1,1,1,3,5,2,2,2],\n",
    "    [2,3,2,2,1,1]    \n",
    "]\n",
    "for i, dfs in enumerate(df):\n",
    "    if len(dfs.columns) == 1:\n",
    "        print(i, '0')\n",
    "        df_aux.append(dndhrt(dfs, rpr[i]))\n",
    "    elif len(dfs.columns) == 2:\n",
    "        print(i, '0 1')\n",
    "        if i >= 9 or i==2 or i==3:\n",
    "            df_aux.append(dn_dhrt(dfs, rpr[i]))\n",
    "        else:\n",
    "            df_aux.append(dnd_hrt(dfs, rpr[i]))\n",
    "    elif len(dfs.columns) == 3:\n",
    "        print(i, '0 1 2')\n",
    "        df_aux.append(dn_d_hrt(dfs, rpr[i]))"
   ]
  },
  {
   "cell_type": "code",
   "execution_count": 186,
   "metadata": {},
   "outputs": [],
   "source": [
    "DF = pd.concat(df_aux)"
   ]
  },
  {
   "cell_type": "code",
   "execution_count": 187,
   "metadata": {},
   "outputs": [
    {
     "data": {
      "text/plain": [
       "(149, 6)"
      ]
     },
     "execution_count": 187,
     "metadata": {},
     "output_type": "execute_result"
    }
   ],
   "source": [
    "DF.shape"
   ]
  },
  {
   "cell_type": "code",
   "execution_count": 188,
   "metadata": {},
   "outputs": [],
   "source": [
    "DF.to_excel(r\"C:\\Users\\brian\\Desktop\\trabajillo\\\\1088887.xlsx\", index=False)"
   ]
  },
  {
   "cell_type": "code",
   "execution_count": null,
   "metadata": {},
   "outputs": [],
   "source": []
  }
 ],
 "metadata": {
  "kernelspec": {
   "display_name": "Python 3",
   "language": "python",
   "name": "python3"
  },
  "language_info": {
   "codemirror_mode": {
    "name": "ipython",
    "version": 3
   },
   "file_extension": ".py",
   "mimetype": "text/x-python",
   "name": "python",
   "nbconvert_exporter": "python",
   "pygments_lexer": "ipython3",
   "version": "3.7.1"
  },
  "toc": {
   "base_numbering": 1,
   "nav_menu": {},
   "number_sections": false,
   "sideBar": true,
   "skip_h1_title": false,
   "title_cell": "Table of Contents",
   "title_sidebar": "Contents",
   "toc_cell": false,
   "toc_position": {},
   "toc_section_display": true,
   "toc_window_display": false
  }
 },
 "nbformat": 4,
 "nbformat_minor": 2
}
